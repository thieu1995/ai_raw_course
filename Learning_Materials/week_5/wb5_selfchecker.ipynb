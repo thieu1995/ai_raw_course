{
 "cells": [
  {
   "cell_type": "markdown",
   "metadata": {},
   "source": [
    "# Portfolio part 3 (workbook 5) Self-Checker\n",
    "\n",
    "This notebook is designed to stream line the process of checking and improving the  assessed activity from workbook 5.\n",
    "\n",
    "It is specifically designed to:\n",
    "\n",
    "reduce frustration that happens when the marking system rejects or will not run your code.\n",
    "maximise your opportunities for getting useful feedback\n",
    "We strongly recommend that you use this to test your code prior to submission rather than waste any attempts on code that would fail to run on the marking server.\n",
    "\n",
    "How to use:\n",
    "\n",
    "- work through this notebook making sure you run all the cell\n",
    "- copy and paste your code into the cells indicated.\n",
    "- when you run these cells will write your code into a file 'clusterandvisualise.py'\n",
    "- afterwards cells will import your code back into the notebook and run the same code that is present on the marking server.\n",
    "- **Please note**: Although the code is the same, the datasets used to test your workflow may be different on the marking server\n",
    "\n",
    "When you are happy with your work, we recommend that you\n",
    "\n",
    "Select 'kernel-> restart kernel and clear all outputs' from the top menu\n",
    "Run all the cells in order, making sure all the outputs are ok.\n",
    "Download the file clusterandvisualise.py ready for submission.\n",
    "The next cell creates a set of standard imports that provide all the functionality you need, and writes them to file so you can do a single import"
   ]
  },
  {
   "cell_type": "markdown",
   "metadata": {},
   "source": [
    "## Marking scheme for your visualisation\n",
    "| Mark         | 0                                                                      | 10                                                                                                                      | 20                                                                                                                     | 30                                                                                                                                       | 40                                                                                                                   | 50                                                                                                                                                                      |\n",
    "|--------------|------------------------------------------------------------------------|-------------------------------------------------------------------------------------------------------------------------|------------------------------------------------------------------------------------------------------------------------|------------------------------------------------------------------------------------------------------------------------------------------|----------------------------------------------------------------------------------------------------------------------|-------------------------------------------------------------------------------------------------------------------------------------------------------------------------|\n",
    "| Content      | Code does not run  OR  no image file produced, OR  image file is empty | Basic scatter plot of two features. Data not coloured by clusters.                                                      | Basic scatter-plot only showing two features.    Some different colours for data markers but no evidence of clustering |  Matrix of scatterplots for different combinations of features.    Some different colours for data markers but no evidence of clustering |  Matrix of scatter-plots for different combinations of features.    Marker colours show appropriate     clusters.    |  Matrix of scatter-plots for different combinations of features.    Diagonals in matrix show histogram plots for variables  Marker colours show appropriate    clusters |\n",
    "| Presentation | Code does not run  OR  no image file produced, OR  image file is empty | No figure title or labels on axes  OR  Plot is not appropriate size  OR  Data markers are not visible and suitable size |  Appropriate figure title    OR  feature names used to label axes, but not both                                        |  Appropriate figure title    AND  feature names used to label axes                                                                       |  Clearly differentiated markers display data with assignment to clusters. Appropriate figure title  and axis labels. |  Well presented fully self-explanatory visualisation with good use of colour and marker styles and sizes.                                                               |"
   ]
  },
  {
   "cell_type": "markdown",
   "metadata": {},
   "source": [
    "<div class = \"alert alert-warning\" style= \"color:black\">\n",
    "<h2>Activity 4: Bringing it all together for submission</h2>\n",
    "    <h3> 100 Marks using the marking scheme below</h3>\n",
    "    Make sure that you are confident in how to assemble snippets of code to: <ul>\n",
    "    <li> Read in a dataset from file <b> you will need to use numpy.genfromtxt() </b></li>\n",
    "    <li> Run kmeans on the data to get a set of  cluster labels for the data points</li>\n",
    "    <li> Make a 2d visualisation of the results with: <ul>\n",
    "        <li> Suitable titles and labels for axes </li>\n",
    "        <li> the title <b>must</b> include your username <br>\n",
    "            for example <i> Visualistion by j4-smith</i></li>\n",
    "        <li> Different colour markers for each cluster </li>\n",
    "        </ul> </li>\n",
    "    <li> Write the visualisation to a file called 'myVisualisation.jpg'\n",
    "    <li> Experiment to find a suitable value for the number of clusters</li>\n",
    "    </ul>\n",
    "    When you are ready: <ol>\n",
    "    <li>put all those snippets into the single function in the code cell below<br>\n",
    "        You must not change the method definition:<br>\n",
    "    <code> def cluster_and_visualise(datafilename:string, K:int, featurenames:list):</code> <br>\n",
    "    and your code <b> must</b> return the matplotlib fig and axs objects</li>\n",
    "    <li> You can run the simple python script in the second cell below to self-assess your code and improve it according to the marking scheme below.</li>\n",
    "    </ol>\n",
    "    HINT: you would be surprised how many people we report for Assessment Offences each year because their visualisations have someone else's name in the title!.<br>\n",
    "    </div>"
   ]
  },
  {
   "cell_type": "markdown",
   "metadata": {},
   "source": [
    "<div class=\"alert alert-block alert-danger\" style=\"color:black\">\n",
    "    <h3> This time the marking system will just expect you to submit a file called <i>clusterandvisualise.py</i></h3>\n",
    "    <p>It will <b> not</b> accept the jupyter notebook.<br>\n",
    "        To help you with that, and demonstrate a useful feature of Jupyter:\n",
    "        <ul> \n",
    "            <li>The %%writefile command at the top of first code cell (where you develop your answer) writes all the content below to file when you run it.</li>\n",
    "            <li> Then the next one imports your code and tests it</li>\n",
    "            <li> The python file that is being created and written is what you submit for marking</li>\n",
    "    </ul></div>"
   ]
  },
  {
   "cell_type": "markdown",
   "metadata": {},
   "source": [
    "## Copy-paste your code from activity 4 of workbook5_unsupervised_learning into the cell below\n",
    "- only copy the contents of your method cluster_and_visualise()\n",
    "- do not put any code outside the section marked ### your code [below|above] ### "
   ]
  },
  {
   "cell_type": "code",
   "execution_count": null,
   "metadata": {},
   "outputs": [],
   "source": [
    "%%writefile 'clusterandvisualise.py'\n",
    "# do not change anything except within the function\n",
    "import numpy as np\n",
    "import matplotlib.pyplot as plt\n",
    "from sklearn.cluster import KMeans\n",
    "\n",
    "def cluster_and_visualise(datafilename, K, featureNames):\n",
    "    \n",
    "    ### your code below ###\n",
    "\n",
    "    \n",
    "    \n",
    "    ### your code above ###\n",
    "    return fig,axs\n"
   ]
  },
  {
   "cell_type": "markdown",
   "metadata": {},
   "source": [
    "## Fill in your user name in the next cell then run it to test your code"
   ]
  },
  {
   "cell_type": "code",
   "execution_count": null,
   "metadata": {},
   "outputs": [],
   "source": [
    "from tester import mark_visualisation as marker\n",
    "from importlib import reload\n",
    "import clusterandvisualise  #works first time you run the cell\n",
    "reload (clusterandvisualise) #works on subsequent runs of the cell\n",
    "from clusterandvisualise import cluster_and_visualise\n",
    "\n",
    "#edit the next line to put in your user name\n",
    "myname = \"j4-smith\"\n",
    "\n",
    "datafile= 'tester/visdata.csv'\n",
    "feature_names= (\"a\",\"b\",\"c\",\"d\")\n",
    "\n",
    "K=2\n",
    "\n",
    "score=0\n",
    "message = \"\"\n",
    "\n",
    "try:\n",
    "    score, message= marker.check_visualisation(cluster_and_visualise,datafile,K,feature_names,student_name=myname)\n",
    "except Exception as e:\n",
    "    message= marker.processError(e, func=cluster_and_visualise) \n",
    "\n",
    "\n",
    "print(f'you score { score}')\n",
    "print('feedback is:')\n",
    "print(f'{message}')"
   ]
  },
  {
   "cell_type": "code",
   "execution_count": null,
   "metadata": {},
   "outputs": [],
   "source": []
  }
 ],
 "metadata": {
  "kernelspec": {
   "display_name": "aienv",
   "language": "python",
   "name": "aienv"
  },
  "language_info": {
   "codemirror_mode": {
    "name": "ipython",
    "version": 3
   },
   "file_extension": ".py",
   "mimetype": "text/x-python",
   "name": "python",
   "nbconvert_exporter": "python",
   "pygments_lexer": "ipython3",
   "version": "3.11.6"
  }
 },
 "nbformat": 4,
 "nbformat_minor": 4
}
