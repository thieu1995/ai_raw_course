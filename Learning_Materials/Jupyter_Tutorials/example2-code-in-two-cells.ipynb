{
 "cells": [
  {
   "cell_type": "markdown",
   "metadata": {},
   "source": [
    "# Introductory Example 2"
   ]
  },
  {
   "cell_type": "markdown",
   "metadata": {},
   "source": [
    "In this example, the Python code we present will be written inside two Jupyter notebook code cells. \n",
    "\n",
    "Hence all the code will be visible to you on this page."
   ]
  },
  {
   "cell_type": "markdown",
   "metadata": {},
   "source": [
    "In this example, we will start with two variables u and v, and allocate them integer values.\n",
    "\n",
    "We then use a third variable x which will contain the sum of the two values u and v.\n",
    "\n",
    "We then perform a check as to whether or not the sum (x) is greater than 10, and we print out a message reflecting the result of the check."
   ]
  },
  {
   "cell_type": "code",
   "execution_count": null,
   "metadata": {},
   "outputs": [],
   "source": [
    "# This is a code cell and contains Python code. Hence any comment here needs to be preceded by a '#'\n",
    "\n",
    "# Allocate integer values to the variables u and v\n",
    "\n",
    "u = 6\n",
    "\n",
    "v = 5\n",
    "\n",
    "# Introduce the variable x, being the sum of u and v\n",
    "\n",
    "x = u + v"
   ]
  },
  {
   "cell_type": "code",
   "execution_count": null,
   "metadata": {},
   "outputs": [],
   "source": [
    "# See if x is greater than 10 and print out a message if that is the case\n",
    "\n",
    "if (x > 10):\n",
    "    print('The sum is greater than 10')\n",
    "else:\n",
    "    print('The sum is NOT greater than 10')\n",
    "    "
   ]
  }
 ],
 "metadata": {
  "celltoolbar": "Raw Cell Format",
  "kernelspec": {
   "display_name": "Python 3",
   "language": "python",
   "name": "python3"
  },
  "language_info": {
   "codemirror_mode": {
    "name": "ipython",
    "version": 3
   },
   "file_extension": ".py",
   "mimetype": "text/x-python",
   "name": "python",
   "nbconvert_exporter": "python",
   "pygments_lexer": "ipython3",
   "version": "3.8.3"
  }
 },
 "nbformat": 4,
 "nbformat_minor": 4
}
