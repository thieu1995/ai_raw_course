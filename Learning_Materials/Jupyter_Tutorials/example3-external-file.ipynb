{
 "cells": [
  {
   "cell_type": "markdown",
   "metadata": {},
   "source": [
    "# Introductory Example 3"
   ]
  },
  {
   "cell_type": "markdown",
   "metadata": {},
   "source": [
    "In this example, the Python code is exactly the same Python code as in Example 1.\n",
    "\n",
    "However, the Python code now resides in a Python .py file which is just a text file that contains Python code.\n",
    "\n",
    "We have called the Python file 'code.py' and it can be edited using any standard text editor or can be edited in Jupyter Lab.\n",
    "\n",
    "In order to run the Python file code.py simply type in 'run code.py' in a code cell below."
   ]
  },
  {
   "cell_type": "markdown",
   "metadata": {},
   "source": [
    "The functionality of the code is the same as in Example 1 and hence we refer you to that example to see what should happen."
   ]
  },
  {
   "cell_type": "code",
   "execution_count": null,
   "metadata": {},
   "outputs": [],
   "source": [
    "run example3-code.py"
   ]
  }
 ],
 "metadata": {
  "celltoolbar": "Raw Cell Format",
  "kernelspec": {
   "display_name": "Python 3",
   "language": "python",
   "name": "python3"
  },
  "language_info": {
   "codemirror_mode": {
    "name": "ipython",
    "version": 3
   },
   "file_extension": ".py",
   "mimetype": "text/x-python",
   "name": "python",
   "nbconvert_exporter": "python",
   "pygments_lexer": "ipython3",
   "version": "3.8.3"
  }
 },
 "nbformat": 4,
 "nbformat_minor": 4
}
