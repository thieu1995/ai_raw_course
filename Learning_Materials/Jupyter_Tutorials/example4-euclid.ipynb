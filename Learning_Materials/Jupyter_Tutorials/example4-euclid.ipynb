{
 "cells": [
  {
   "cell_type": "markdown",
   "metadata": {},
   "source": [
    "# Introductory Example 4"
   ]
  },
  {
   "cell_type": "markdown",
   "metadata": {},
   "source": [
    "This example introduces the use of 'functions' in Python and does so by considering the scenario whereby we want to calculate the highest commond divisor (HCD) of several pairs of numbers. Euclid's algorithm is used to calculate the HCD of any pair of positive integers. Instead of coding Euclid's algorithm for each time we want to implement it, we write the code for Euclid's algorithm for arbitrary integers m and n and we place that algorithm into a Python function. We can then call that Python function the several times to obtain our HCD of the several pairs of integers.\n",
    "\n",
    "We will write the function that implements Euclid's algorithm in a Python file called 'example4-euclid-code.py'. The name of the function will be 'Euclid'. The .py file will contain the definition of the function 'Euclid' and, in calling \n",
    "    \n",
    "run example4-euclid-code.py\n",
    "   \n",
    "what happens is that, in the JupyterLab notebook, the function 'Euclid' is loaded into the kernel. At this stage it is only the definition of the function that is loaded i.e. the no calculations of the function is done. You may want to think of it as reading the definition of a function in a book without doing any example calculations of the function.\n",
    "\n",
    "Having loaded the function Euclid into the kernel, we can then perform example runs of the function by simply typing, in a code cell, \n",
    "\n",
    "Euclid(m,n)\n",
    "   \n",
    "having replaced the m and n by actual values positive integer values. For example, calling \n",
    "\n",
    "Euclid(21,14) \n",
    "\n",
    "will return the value 7 (the HCD of 21 and 14). JupyterLab will automatically print out the resulting value to the screen.\n",
    "\n",
    "Finally, the output from the calling the function can be assigned to a variable. For example, \n",
    "\n",
    "w = Euclid(21,14)\n",
    "\n",
    "will assign the value of 7 to the variable w. In doing this JupyterLab will not print out the value to the screen. To then print out the value, simply type, in a new code cell,\n",
    "\n",
    "w\n",
    "\n",
    "and JupyterLab will print out the value of 10. We have done this in the very last example."
   ]
  },
  {
   "cell_type": "code",
   "execution_count": null,
   "metadata": {},
   "outputs": [],
   "source": [
    "from example4_euclid_code import Euclid     # obtain the definition of the file Euclid"
   ]
  },
  {
   "cell_type": "code",
   "execution_count": null,
   "metadata": {},
   "outputs": [],
   "source": [
    "Euclid(20,10)"
   ]
  },
  {
   "cell_type": "code",
   "execution_count": null,
   "metadata": {},
   "outputs": [],
   "source": [
    "Euclid(21,10)"
   ]
  },
  {
   "cell_type": "code",
   "execution_count": null,
   "metadata": {},
   "outputs": [],
   "source": [
    "Euclid(42,18)"
   ]
  },
  {
   "cell_type": "code",
   "execution_count": null,
   "metadata": {},
   "outputs": [],
   "source": [
    "Euclid(22,22)"
   ]
  },
  {
   "cell_type": "code",
   "execution_count": null,
   "metadata": {},
   "outputs": [],
   "source": [
    "Euclid(5003,4999)"
   ]
  },
  {
   "cell_type": "code",
   "execution_count": null,
   "metadata": {},
   "outputs": [],
   "source": [
    "Euclid(5004,5000)"
   ]
  },
  {
   "cell_type": "code",
   "execution_count": null,
   "metadata": {},
   "outputs": [],
   "source": [
    "w = Euclid(21,14)              #  write the value to the variable w (does not print the value to the screen)"
   ]
  },
  {
   "cell_type": "code",
   "execution_count": null,
   "metadata": {},
   "outputs": [],
   "source": [
    "w                              # to print out the value of w to the screen"
   ]
  }
 ],
 "metadata": {
  "celltoolbar": "Raw Cell Format",
  "kernelspec": {
   "display_name": "Python 3",
   "language": "python",
   "name": "python3"
  },
  "language_info": {
   "codemirror_mode": {
    "name": "ipython",
    "version": 3
   },
   "file_extension": ".py",
   "mimetype": "text/x-python",
   "name": "python",
   "nbconvert_exporter": "python",
   "pygments_lexer": "ipython3",
   "version": "3.8.3"
  }
 },
 "nbformat": 4,
 "nbformat_minor": 4
}
