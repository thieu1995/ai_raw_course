{
 "cells": [
  {
   "cell_type": "markdown",
   "metadata": {},
   "source": [
    "# Workbook 1: Coding practice, introducing numpy and writing your first notebook\n",
    "\n",
    "## Overview of activities and tasks in this workbook\n",
    "<div class=\"alert alert-block alert-info\" style=\"color:black\"> \n",
    "<ol>\n",
    "    <li>The first activity this week is to refresh your python coding skills \n",
    "        by writing a simple algorithm that tries all the possible combinations of 4 digits to solve a combination lock puzzle.\n",
    "        <ul>\n",
    "        <li> We provide a simple class for a puzzle with methods set a problem and test whether an attempt has cracked the code.</li>\n",
    "        <li> The task is to implement your algorithm in a method that can be tested using code from the problem class.</li>\n",
    "        </ul>\n",
    "    </li>\n",
    "    <li> Having implemented your algorithm, the second activity asks you to examine it's performance as the <em>complexity</em> of the combination lock changes. <ul> \n",
    "            <li> for example, more digits, or more values per digit.</li>\n",
    "            <li> The task is to use experiments and reasoning to answer a number of interactive multiple-choice questions.</li>\n",
    "            <li> We provide python dictionary for you to  edit to store your answers ready for submission to the marking server.</li>\n",
    "        </ul>\n",
    "    </li> \n",
    "    <li> The third activity introduces the ```numpy``` class which is incredibly useful for all sorts of numeric computing.<br>\n",
    "     There are some simple code cells to work through which illustrate how to: \n",
    "        <ul>\n",
    "            <li> <em>slice</em> datasets into retrieve subsets of their data </li>\n",
    "          <li> get statistical descriptions (e.g. mean/min/max and unique values) of numeric data </li>\n",
    "          <li> Task 3 is to write a method that combines array slicing with some simple string processing to extract a set of values from a text database</li>\n",
    "          <li> For those that feel confident, Task 4 is to combine code snippets from these cells to create a new method that could be used as part of a different problem<br> - evaluating an attempt to solve a Sudoku problem.</li>\n",
    "    </ul></li>\n",
    "    </ol>\n",
    "Along the way we will refresh the idea of splitting code into different files, so code can be re-used, \n",
    " and to keep the main code (or notebook) cleaner and more self-explanatory\n",
    "    <h3>Finally you will submit your notebook to the online marking server for feedback.</h3>\n",
    "    </div>"
   ]
  },
  {
   "cell_type": "markdown",
   "metadata": {},
   "source": [
    "## Jupyter\n",
    "If you are seeing this in your browser it means that you have successfully downloaded and run this notebook within your Jupiter environment.\n",
    "\n",
    "You should have watched the videos that explain how a note book works, and what the different types of cells are.\n",
    "\n",
    "If you haven't done that, on the modules blackboard go to:\n",
    "\n",
    "**Learning materials > Getting ready for the module: setting up Jupyter**\n",
    "\n",
    "- Please take the time to watch the video and run through the simple examples.\n",
    "- it is important to understand the effect of running and re-running different cells, and the order that you do that.\n",
    "\n",
    "**Markdown cells** such as this one, are used to display text and image files on screen. \n",
    "- markdown cells are very useful to keep a record of what you are doing, and to add notes\n",
    "- they can also include html snippets to givve you more control over formatting as blue boxes illustrate\n",
    "\n",
    "\n",
    "<div class=\"alert alert-block alert-info\" style=\"color:black\"> \n",
    "    <h3>Code in this module uses the AIenv python environment</h3>\n",
    "<ul>\n",
    "    <li>IF you are running the notebooks on the cloud server you need to click on the kernel menu and then change-kernel to'AIenv'.</li>\n",
    "    <li>IF you are running locally AND you created a virtual environment in Jupyter<br>\n",
    "        THEN click on the kernel menu then change-kernel </li>\n",
    "    <li> OR in VSCode use the kernel selector in the top-right hand corner.</li>\n",
    "    </ul>\n",
    "</div>"
   ]
  },
  {
   "cell_type": "markdown",
   "metadata": {},
   "source": [
    "## Part 1: Implementing a simple algorithm for a simple problem\n",
    "### You are now ready to start doing some coding.\n",
    "\n",
    "In the next cell:\n",
    "- line 1 tells python to import one module (file) which contains details of the multiple-choice questions checking your understanding\n",
    "- line 2 imports some code that lets us display multiple choice questions within a notebook\n",
    "- line 3 imports the numpy library. We'll focus more on this at the end of this workbook"
   ]
  },
  {
   "cell_type": "code",
   "execution_count": null,
   "metadata": {
    "tags": []
   },
   "outputs": [],
   "source": [
    "import workbook1_mcq1\n",
    "from IPython.display import display\n",
    "import numpy as np\n",
    "import random\n",
    "import traceback"
   ]
  },
  {
   "cell_type": "markdown",
   "metadata": {},
   "source": [
    "## We'll start by defining classes for Problem() and CandidateSolution() \n",
    "So we can rapidly create new types of problems.\n",
    "\n",
    "The main reason for doing this is so that algorithms know what they can call and how\n",
    "\n",
    "<img src=\"figs/simple_uml.png\">"
   ]
  },
  {
   "cell_type": "code",
   "execution_count": null,
   "metadata": {
    "tags": []
   },
   "outputs": [],
   "source": [
    "class CandidateSolution:\n",
    "    \"\"\"Simple class to hold a candiate solution\n",
    "    Note how this emphasises that the solution is a set of choices about\n",
    "    values some variables shoul take\n",
    "    \"\"\"\n",
    "\n",
    "    def __init__(self):\n",
    "        self.variable_values: List = []\n",
    "        self.quality: int = 0"
   ]
  },
  {
   "cell_type": "code",
   "execution_count": null,
   "metadata": {
    "tags": []
   },
   "outputs": [],
   "source": [
    "class Problem:\n",
    "    \"\"\"generic super class we will use for problems\"\"\"\n",
    "\n",
    "    def __init__():\n",
    "        # we can't say what acceptable variable values are in general\n",
    "        self.value_set = []\n",
    "\n",
    "    def evaluate(solution: CandidateSolution) -> (int, str):\n",
    "        \"\"\"evaluate function\n",
    "         Parameters\n",
    "         ----------\n",
    "        Parameters\n",
    "         ----------\n",
    "         attempt: list\n",
    "             list of values that define a proposed solution\n",
    "         Returns\n",
    "         ---------\n",
    "         int\n",
    "             quality\n",
    "             -1 means invalid,\n",
    "         str\n",
    "             reason why solution is invalid\n",
    "             empty string if solution is ok\n",
    "        \"\"\"\n",
    "\n",
    "        return -1, \"evaluation function has not been defined for problem!\""
   ]
  },
  {
   "cell_type": "markdown",
   "metadata": {},
   "source": [
    "### Defining a class for a combination lock problem:\n",
    "<a title=\"Immanuel goldstein at English Wikipedia, Public domain, via Wikimedia Commons\" href=\"https://commons.wikimedia.org/wiki/File:CombinationBikeLock.JPG\"><img width=\"256\" style=\"float:right\" alt=\"CombinationBikeLock\" src=\"https://upload.wikimedia.org/wikipedia/commons/b/b7/CombinationBikeLock.JPG\"></a>\n",
    "\n",
    "The lock has a number of **tumblers** (4 in the picture, more expensive locks have more)\n",
    "- there are the same number of options for  each tumbler, typically (but not always) 10\n",
    "- when the lock is made, each of the N tumblers is set with it's own specific value.\n",
    "-  So in code:\n",
    "   - an attempt to open the lock  \n",
    "     means \n",
    "   - testing whether each of N variables has got the right value.\n",
    "\n",
    "\n",
    "Coding things to note:\n",
    "- This code just uses python lists to hold the answer and attempts\n",
    "- I've used strict PEP8 naming conventions, docstrings and type hints for parameters to methods.  \n",
    "- This is good coding practice and many github repositories will use automated checks to enforce them\n",
    "- Note also I've use f-strings to create the output [Good explanation here](https://realpython.com/python-f-strings/)\n"
   ]
  },
  {
   "cell_type": "code",
   "execution_count": null,
   "metadata": {
    "tags": []
   },
   "outputs": [],
   "source": [
    "class CombinationProblem(Problem):\n",
    "    \"\"\"\n",
    "    Class to create simple combination lock problems\n",
    "    and report whether a guess opens the lock\n",
    "    \"\"\"\n",
    "\n",
    "    def __init__(self, N: int = 4, num_options: int = 10):\n",
    "        \"\"\"Create a new instance with a random solution\n",
    "        Parameters\n",
    "        ----------\n",
    "        N:int\n",
    "           number of tumblers\n",
    "           default 4\n",
    "        num_options:int\n",
    "           number of possible values (positions) for each tumbler\n",
    "           this version assumes they are a consecutive integers from 1 to num_options\n",
    "           default 10\n",
    "        \"\"\"\n",
    "\n",
    "        self.solution_length = N  # number of tumblers\n",
    "        # set the allowed values in each position\n",
    "        self.value_set = []\n",
    "        for val in range(1, num_options + 1):\n",
    "            self.value_set.append(val)\n",
    "\n",
    "        # set  new random goal (unlock code)\n",
    "        self.goal = []\n",
    "        for position in range(N):\n",
    "            new_random_val = random.choice(self.value_set)\n",
    "            self.goal.append(new_random_val)\n",
    "\n",
    "    def print_goal(self) -> str:\n",
    "        \"\"\"helper function -prints  target combinbation to screen\"\"\"\n",
    "        return f\"{self.goal}\"\n",
    "\n",
    "    def evaluate(self, attempt: CandidateSolution) -> (int, str):\n",
    "        \"\"\"\n",
    "        Tests whether a provided attempt matches the combination\n",
    "        Parameters\n",
    "        ----------\n",
    "        attempt: list\n",
    "            list of values that define a proposed solution\n",
    "        Returns\n",
    "        ---------\n",
    "        int\n",
    "            quality\n",
    "            -1 means  attempt is invalid, (e.g. too few or wrong values)\n",
    "            0 means valid but incorrect,\n",
    "            1 means correct\n",
    "        str\n",
    "            reason why solution is invalid\n",
    "            empty string if solution is ok\n",
    "        \"\"\"\n",
    "        #  how long is the solution?\n",
    "        N = len(attempt.variable_values)\n",
    "        if N is not self.solution_length:\n",
    "            return -1, \"attempt is wrong length\"\n",
    "\n",
    "        # is the solution made up of valid choices?\n",
    "        for pos in range(N):\n",
    "            if attempt.variable_values[pos] not in self.value_set:\n",
    "                return -1, \"error, invalid value found in solution\"\n",
    "\n",
    "        # have we found the right combination?\n",
    "        if attempt.variable_values == self.goal:\n",
    "            return 1, \"\"\n",
    "        else:\n",
    "            return 0, \"\""
   ]
  },
  {
   "cell_type": "markdown",
   "metadata": {},
   "source": [
    "<div class = \"alert alert-warning\" style= \"color:black\">\n",
    "    <h2>Activity 1: Complete the skeleton code below to implement a simple algorithm to solve a combination lock puzzle</h2>\n",
    "    <h3> 40 marks for correct implementation that passes a copy of  the test below on the marking server </h3>\n",
    "    <p>Your code should be wrapped up as a method that can be called using the skeleton code below.<br>\n",
    "    Having it as a method is neater, and means the automated marking server can test it as well.</p>\n",
    "    <p> The puzzle will have 4 digits so you can hard-code the number of loops. <br>\n",
    "    <b>Don't over-think this</b>: my 'reference version' only adds 8 lines of code to the skeleton</p>\n",
    "    Your code should :<ol>\n",
    "        <li> Take as a parameter a new puzzle instance with 4 tumblers</li>\n",
    "        <li> Contain four nested for loops (one for each tumbler) \n",
    "            <ul> \n",
    "                <li>Each loop runs over all the possible values a tumbler can have.</li>\n",
    "                <li> It makes your code more reusable if you do this using <br>\n",
    "                    <em> for loopvar in (puzzle.value_set)</em> <br>\n",
    "                  where you use a different variable name for each loop.</li></li>\n",
    "            </ul>\n",
    "        </li>\n",
    "         <li> Inside the inner loop you need to:<ol>\n",
    "             <li> Write the four values into a candidate solution</li>\n",
    "             <li> pass the changed candidate solution to the puzzle's <em>evaluate()</em> method</li>\n",
    "             <li> look  at the returned value and exit if you have the right combination</li>\n",
    "         </ol>\n",
    "        <li> Your function should return the right answer (as a list)</li>\n",
    "    </ol>\n",
    "    <p><b>Then run the second cell below to test your algorithm</b></p>\n",
    "    <p>    <b>Hint:</b> if your 4 loop variables are called digit1, digit2, digit3, digit4<br>\n",
    "        then you can set <em>attempt.variable_values = [digit1,digit2,digit3,digit4]</em></p>\n",
    "    <p> <b>Note:</b>\n",
    "        It's easiest to do this with four nested for loops, <br>\n",
    "        but other methods might be easier to adapt to different situations.</p>\n",
    "    <p> <b> Hint 2:</b> the method CombinationProblem.evaluate() returns <b>two</b> values <br>\n",
    "    so you need to catch both and then just look at the first one to see if you have solve the puzzle.</p>\n",
    "    </div>\n",
    "\n",
    "    \n",
    "    "
   ]
  },
  {
   "cell_type": "code",
   "execution_count": null,
   "metadata": {
    "tags": []
   },
   "outputs": [],
   "source": [
    "def exhaustive_search_4tumblers(puzzle: CombinationProblem) -> list:\n",
    "    \"\"\"simple brute-force search method that tries every combination until\n",
    "    it finds the answer to a 4-digit combination lock puzzle\n",
    "\n",
    "    \"\"\"\n",
    "\n",
    "    # check that the lock has the expected number of digits\n",
    "    assert puzzle.solution_length == 4, \"this code only works for 4 digits\"\n",
    "\n",
    "    attempt = CandidateSolution()\n",
    "    ##Your code here\n",
    "    # you should have four nested for loops\n",
    "    # each defining the value in a different element of attempt.variable_values\n",
    "    # inside the final loop you just need four lines of code to\n",
    "    # put the current values for the four loop variables into attempt.variable_values\n",
    "    #   call puzzle's evaluate() method with the attempt\n",
    "    #   if that returns '1',\"\" then return the answer stored in attempt.variable_values\n",
    "\n",
    "    # should never get here\n",
    "    return [-1, -1, -1, -1]"
   ]
  },
  {
   "cell_type": "code",
   "execution_count": null,
   "metadata": {
    "tags": []
   },
   "outputs": [],
   "source": [
    "# run this cell to test your algorithm\n",
    "\n",
    "\n",
    "def test_exhaustive_search_4tumblers():\n",
    "    \"\"\"function to test implementation of exhaustive search\"\"\"\n",
    "    # create new puzzle\n",
    "    puzzle = CombinationProblem(N=4, num_options=10)\n",
    "    # call function to solve the puzzle\n",
    "    # wrap it in a try...except to help debug incorrect code\n",
    "    try:\n",
    "        search_answer = exhaustive_search_4tumblers(puzzle)\n",
    "        if search_answer == puzzle.goal:\n",
    "            message = \"Well done\"\n",
    "        else:\n",
    "            message = (\n",
    "                f\"Something went wrong: your code returned the answer {search_answer}\"\n",
    "            )\n",
    "            message += f\" but the real answer was {puzzle.goal}\"\n",
    "    except Exception as e:\n",
    "        message = \"Something went wrong with your code.\\n\"\n",
    "        message += \"Here is the stack trace which should let you find the error\\n\"\n",
    "        message += traceback.format_exc()\n",
    "    # assertion fails and prints the message if something went wrong\n",
    "    assert message == \"Well done\", message\n",
    "    print(f\" your code correctly found the solution {puzzle.goal}\")\n",
    "\n",
    "\n",
    "test_exhaustive_search_4tumblers()"
   ]
  },
  {
   "cell_type": "markdown",
   "metadata": {},
   "source": [
    "# Part 2: Analysing your algorithm's performance\n",
    "## How does your algorithm behave as the complexity of the problem grows?\n",
    "\n",
    "Use a combination of learning skills to find out answers to the questions below:\n",
    "- **active learning** - experiments, \n",
    "- **theory learning** your understanding based on reasoning,\n",
    "- **pragmatism** (trial-and-error)\n",
    "\n",
    "<div class = \"alert alert-warning\" style= \"color:black\">\n",
    "    <h2>Activity 2 (40 marks): Analysing your algorithm's effectiveness and efficiency</h2>\n",
    "    <h3> 5 marks each for the first six questions, ten for the seventh</h3>\n",
    "     <ol>\n",
    "         <li> Run the next cell and answer the multiple-choice questions to check your understanding of your algorithm.</li>\n",
    "         <li> Then copy the right answers in to the cell below where they are stored for automated marking.<br>\n",
    "             <b> If you don't do this the marking server will record your answers as wrong.</b></li>\n",
    "    </ol>\n",
    "    <p>It's often a good idea to check your understanding of how the method works <b> in theory</b> against <b>observations</b>.<br> \n",
    "    So to check some of your answers you might want to add some print statements to your code.</p>\n",
    "    <p><b>Remember that the marking server wants to see your method working for 4 tumblers</b><br>\n",
    "    so  if you want to experiment with what happens if there are more or less than 4 tumblers,<br>\n",
    "    you'll need to add a new cell to the notebook and  make a copy of the function with a different name.</p>\n",
    "    </div>\n",
    "\n"
   ]
  },
  {
   "cell_type": "code",
   "execution_count": null,
   "metadata": {
    "code_folding": [
     1
    ],
    "tags": []
   },
   "outputs": [],
   "source": [
    "print(\n",
    "    \"\\nThese first three questions check how your algorithm should run with the settings provided.\\n\"\n",
    ")\n",
    "display(workbook1_mcq1.Q1)\n",
    "display(workbook1_mcq1.Q2)\n",
    "display(workbook1_mcq1.Q3)\n",
    "\n",
    "print(\n",
    "    \"\\n The next questions ask you to think about how fast the search space grows as you change the puzzle definition.\\n\"\n",
    ")\n",
    "\n",
    "display(workbook1_mcq1.Q4)\n",
    "display(workbook1_mcq1.Q5)\n",
    "display(workbook1_mcq1.Q6)\n",
    "display(workbook1_mcq1.Q7)"
   ]
  },
  {
   "cell_type": "markdown",
   "metadata": {},
   "source": [
    "# Part 3: Introducing the numpy package for storing and manipulating numerical data\n",
    "<img src=\"figs/slicing.png\" style=\"float:right\" size:300/>\n",
    "\n",
    "## Python arrays and slicing:\n",
    "Python has a **numpy** module with lots of useful code for doing math, and creating and manipulating arrays of data. \n",
    "\n",
    "There are **lots** of books and online resources to help you learn about numpy such as [W3schools](https://www.w3schools.com/python/numpy/default.asp), [geeksforgeeks](https://www.geeksforgeeks.org/python-numpy/) and of course you can ask specific questions if you're stuck with bits of coding on [stackoverflow](https://stackoverflow.com/questions/tagged/python)\n",
    "\n",
    "### Finding the size of arrays\n",
    "- numpy arrays are created using ```np.array()```\n",
    "- numpy arrays can be:\n",
    "  - 1 dimensional (like a vector) datatype= ```np.array```, or \n",
    "  - N-dimension (like a matrix or a table) datatype ```np.ndarray```\n",
    "- all numpy arrays have a ```.shape``` attribute\n",
    "   - either a scalar (integer) value giving the length of a 1D array\n",
    "   - or an array of values holding the size of different dimension\n",
    "   - for the two-dimensional array X in the example shown  \n",
    "     ```X.shape= [7,5]```\n",
    "     \n",
    "\n",
    "### Slicing arrays\n",
    "If we have a 2D numpy array X  we can select just parts of it - i.e. groups of rows, or columns, by \"slicing\".  \n",
    "\n",
    "We specify the range of rows we want, then the range of columns using ```X[start_row: end_row, start_col: end_col]``` \n",
    "- The end_row and end_col are not included in the slice.\n",
    "- If start or end are empty, then the slices goes right from the start or right to the end.\n",
    "- If the start is empty and the end is negative, the slices comes from the end of the row/column."
   ]
  },
  {
   "cell_type": "markdown",
   "metadata": {},
   "source": [
    "**Example 1:** If we put the letters of my name into a 1-D array  then we can pick out what we want as shown in the cell below. \n",
    "\n",
    "**Example 2:** (also in the cell below) If we have all the tutors names we could pick out just one row,  or the nth letter in all their names. \n",
    "\n",
    "**Example 3:** if (as in the iris data -- we'll see this a lot in the next topic) X has 150 rows and 4 columns then:\n",
    "- ```X.shape = [150,4]```\n",
    "- ```A = X[ 0 : 50 , :]```.  A is a 2d array containing the first 50 rows, and all 4 columns.\n",
    "- ```B = X[ : , 3:]```.   B is a 1D array with 150 rows and  the columns 3 and onwards (in this case, it is just the last).\n",
    "- ```C = X[ 0: 2, 0:4]``` C is a 2D array with 3 rows and 4 columns."
   ]
  },
  {
   "cell_type": "code",
   "execution_count": null,
   "metadata": {
    "tags": []
   },
   "outputs": [],
   "source": [
    "import numpy as np\n",
    "\n",
    "# Example 1\n",
    "print(\"Declaring a 1d array\")\n",
    "jims_name = np.array([\"j\", \"i\", \"m\", \" \", \"s\", \"m\", \"i\", \"t\", \"h\"])\n",
    "\n",
    "print(f\"the variable jims_name is of type {type(jims_name)}\")\n",
    "print(f\"it  has value {jims_name}\\n and  shape {jims_name.shape}\")\n",
    "print(\"extracting a range of values from a 1-D array e.g. jims_name[0:3]:\")\n",
    "print(jims_name[0:3])"
   ]
  },
  {
   "cell_type": "code",
   "execution_count": null,
   "metadata": {
    "tags": []
   },
   "outputs": [],
   "source": [
    "# Example 2\n",
    "print(\"\\n Declaring a  a 2D array:\")\n",
    "tutors_names = np.array(\n",
    "    [\n",
    "        [\"j\", \"i\", \"m\", \" \", \" \", \" \", \" \", \"s\", \"m\", \"i\", \"t\", \"h\", \" \"],\n",
    "        [\"n\", \"a\", \"t\", \"h\", \"a\", \"n\", \" \", \"d\", \"u\", \"r\", \"a\", \"n\", \" \"],\n",
    "        [\"e\", \"l\", \"i\", \"s\", \"a\", \" \", \" \", \"c\", \"o\", \"v\", \"a\", \"t\", \"o\"],\n",
    "    ],\n",
    "    dtype=str,\n",
    ")\n",
    "print(f\"{tutors_names}\")\n",
    "\n",
    "print(\n",
    "    f\" tutors_names has shape {tutors_names.shape}\\n\"\n",
    "    f\"so if we print tutors_names.shape[0] we see it has {tutors_names.shape[0]} rows\\n\"\n",
    "    f\"and if we print tutors_names.shape[1] we see it has {tutors_names.shape[1]} columns\"\n",
    ")"
   ]
  },
  {
   "cell_type": "code",
   "execution_count": null,
   "metadata": {
    "tags": []
   },
   "outputs": [],
   "source": [
    "print(\"Extracting a  row with all its columns from a 2D array, e.g. tutors_names[1,:] \")\n",
    "print(tutors_names[1, :])  # every column of the second row\n",
    "\n",
    "print(\n",
    "    \"\\nExtracting a range of columns from every row of a 2D array e.g., tutors_names[:,0:6]\"\n",
    ")\n",
    "print(tutors_names[:, 0:6])\n",
    "\n",
    "# This example uses negative index to read from the end of a slice\n",
    "print(\"\\nextracting a specific block of data from a 2D array e.g. tutors_names[2,-6]\")\n",
    "print(tutors_names[2, -6:])\n",
    "print(\n",
    "    \"note how this example used negative indexing to count from the end not the start\"\n",
    ")"
   ]
  },
  {
   "cell_type": "markdown",
   "metadata": {},
   "source": [
    "<div class = \"alert alert-warning\" style= \"color:black\">\n",
    "<h2>Activity 3: practising numpy slicing</h2>\n",
    "<h3> 10 marks for an implementation that passes the test. <br> Note that the marking server will use a different array of names.</h3>\n",
    "Making use of the snippets above, write a function <em>get_names(namearray:np.ndarray)->list</em> that:\n",
    "    <ul>\n",
    "    <li>takes the array <em>tutors_names</em> as a parameter</li>\n",
    "    <li>gets smaller array containing just the family names</li>\n",
    "        <li> uses the python <em> str.join method</em> to turn each family name into a single string</li>\n",
    "    <li>appends all the strings to a list</li>\n",
    "    <li>returns that list containing the family names </li>\n",
    "    </ul>\n",
    "    <p><b> Your code should work if we test it with different arrays (as long as the family names have the same maximum length)</b></p>\n",
    "        <p> <b>HINT1:</b> Like all coding (especially if the coder is something like chat-gpt), it's always a good idea to start by asking how you would test your code.<br> In this case I've given you a test function to help you make sure you've understood the requirements.    </p>    \n",
    "    <p> <b>HINT2:</b> try the answers in  <a href=\"https://stackoverflow.com/questions/12453580/how-to-concatenate-join-items-in-a-list-to-a-single-string\">this question</a> to see how to make strings out of the characters in a name.    </p>\n",
    "    <p> <b>HINT3:</b> my solution has one for loop (using namearray.shape[0] to access the number of rows)<br> and 3 lines of code inside the loop.     </p>\n",
    "    <p><b>HINT4:</b> If you look at the original array you'll see I've put spaces after my  and Nathan's family names</p>\n",
    "    <p> Use the cell below to develop your code and the one after to test it.</p>\n",
    "</div>"
   ]
  },
  {
   "cell_type": "code",
   "execution_count": null,
   "metadata": {
    "tags": []
   },
   "outputs": [],
   "source": [
    "def get_names(namearray: np.ndarray) -> list:\n",
    "    family_names = []\n",
    "    # your code goes here\n",
    "\n",
    "    return family_names"
   ]
  },
  {
   "cell_type": "code",
   "execution_count": null,
   "metadata": {
    "tags": []
   },
   "outputs": [],
   "source": [
    "# run this cell to test your function\n",
    "def test_get_names():\n",
    "    \"\"\"\n",
    "    an example of writing a test to check code does what it should,\n",
    "    building and using an error string to give more information.\n",
    "    NOTE: we will test your code using different arrays, so you can't hard-code the answers!\n",
    "    \"\"\"\n",
    "    tutors_names2 = np.array(\n",
    "        [\n",
    "            [\"j\", \"i\", \"m\", \" \", \" \", \" \", \" \", \"s\", \"m\", \"i\", \"t\", \"h\", \" \"],\n",
    "            [\"n\", \"a\", \"t\", \"h\", \"a\", \"n\", \" \", \"d\", \"u\", \"r\", \"a\", \"n\", \" \"],\n",
    "            [\"e\", \"l\", \"i\", \"s\", \"a\", \" \", \" \", \"c\", \"o\", \"v\", \"a\", \"t\", \"o\"],\n",
    "        ],\n",
    "        dtype=str,\n",
    "    )\n",
    "    returned_value = get_names(tutors_names2)\n",
    "    correct_value = [\"smith \", \"duran \", \"covato\"]\n",
    "    error_msg = f\"returned value {returned_value} should be {correct_value}\"\n",
    "    assert returned_value == correct_value, error_msg\n",
    "    print(\"test passed\")\n",
    "\n",
    "\n",
    "test_get_names()"
   ]
  },
  {
   "cell_type": "markdown",
   "metadata": {},
   "source": [
    "## Some useful numerical functions provided for  numpy arrays\n",
    "\n",
    "The real benefits of numpy arrays come when they hold numerical data.\n",
    "\n",
    "Numpy provides **lots** of built-in mathematical functions, here we'll just illustrate a few that you'll use in this course\n",
    "\n",
    "### making arrays full of zeros/ones etc\n",
    "- via functions like ```np.zeros((rows,columns),datatype)```\n",
    "- see [the numpy documentation](https://numpy.org/doc/stable/reference/routines.array-creation.html) for more details\n",
    "\n",
    "### Statistics that describe contents:mean, max and min\n",
    "- if we call ```np.mean(myarray)```,  ```np.max(myarray)``` or ```np.min(myarray)``` on a 1D array we. get what you would expect\n",
    "- if we call the methods on a N-Dimensional array we get results for the whole array\n",
    "- but we can also get it for different dimensions by specifying what *axis* we want\n",
    "- and ```np.argmax(myarray)``` or ```np.argmin(myarray)``` tell us where the biggest/smallest values are in the array\n",
    "\n",
    "The cell below illustrates how to use these - and also a handy function ```np.reshape()``` which re-organises things "
   ]
  },
  {
   "cell_type": "code",
   "execution_count": null,
   "metadata": {
    "tags": []
   },
   "outputs": [],
   "source": [
    "# make a 1d array holding the values from 1 to 100\n",
    "my_1darray = np.zeros(100, dtype=int)\n",
    "for position in range(my_1darray.shape[0]):\n",
    "    my_1darray[position] = position + 1\n",
    "\n",
    "# to illustrate the point, let's shuffle the array first\n",
    "np.random.shuffle(my_1darray)\n",
    "print(f\"The 1D-version of the array looks like this:\\n{my_1darray}\\n\")\n",
    "\n",
    "# now we can just 'reashape' this long array into a square\n",
    "my_2darray = my_1darray.reshape(10, 10)\n",
    "print(f\"The 2D-version looks like this:\\n{my_2darray}\")"
   ]
  },
  {
   "cell_type": "code",
   "execution_count": null,
   "metadata": {
    "tags": []
   },
   "outputs": [],
   "source": [
    "# getting the unique values in an array\n",
    "uniques = np.unique(my_1darray)\n",
    "print(\n",
    "    f\" np.unique returns an array of the different values present which are:\\n{uniques}\\n\"\n",
    ")\n",
    "\n",
    "print(\n",
    "    f\"we can use the shape attribute to see there are there are {uniques.shape[0]} different values in the array\"\n",
    ")"
   ]
  },
  {
   "cell_type": "code",
   "execution_count": null,
   "metadata": {
    "tags": []
   },
   "outputs": [],
   "source": [
    "# now lets have some statistics\n",
    "\n",
    "# 1D means and max\n",
    "oneD_biggest = np.max(my_1darray)\n",
    "oneD_mean = np.mean(my_1darray)\n",
    "print(f\" the one-D array has biggest value {oneD_biggest} and mean {oneD_mean}\")"
   ]
  },
  {
   "cell_type": "code",
   "execution_count": null,
   "metadata": {
    "tags": []
   },
   "outputs": [],
   "source": [
    "# 2d versions\n",
    "twoD_biggest = np.max(my_2darray)\n",
    "twoD_mean = np.mean(my_2darray)\n",
    "print(f\"The two-D array also has biggest value {twoD_biggest} and mean {twoD_mean}\\n\")\n",
    "\n",
    "print(\"But we can also get row/column stats by asking min/mean to report by axes\\n\")\n",
    "row_wise_biggest = np.max(my_2darray, axis=0)\n",
    "row_wise_mean = np.mean(my_2darray, axis=0)\n",
    "column_wise_biggest = np.max(my_2darray, axis=1)\n",
    "column_wise_mean = np.mean(my_2darray, axis=1)\n",
    "\n",
    "print(f\"row-by-row maxima are {row_wise_biggest}\")\n",
    "print(f\"colum-by-column means are {column_wise_mean}\")"
   ]
  },
  {
   "cell_type": "code",
   "execution_count": null,
   "metadata": {
    "tags": []
   },
   "outputs": [],
   "source": [
    "# locations of max\n",
    "\n",
    "location = np.argmax(my_1darray)\n",
    "print(f\"The biggest value is found in location {location}\")"
   ]
  },
  {
   "cell_type": "markdown",
   "metadata": {},
   "source": [
    "<div class = \"alert alert-warning\" style= \"color:black\">\n",
    "<h2>Activity 4 : Bringing it all together in a search contex</h2>\n",
    "    <h3> This is a <em>Stretch</em> activity so don't worry if you can't complete it easily    \n",
    "<h3> 10 marks</h3>\n",
    "    Complete the code snippet below to create a testing function for a sudoku problem.<br>\n",
    "    Your code should:\n",
    "    <ul>\n",
    "        <li> Take a 2d numpy array <em>attempt</em> as input</li>\n",
    "        <li> Use assertions to check that the array has 9 rows and 9 columns</li>\n",
    "        <li> Define 27 <it>slices</it> or subarrays corresponding to the 9 sub-squares, 9 rows and 9 columns<br>\n",
    "            Here are three to get you started<br>\n",
    "            <em>row1 = attempt[1,:]</em><br>\n",
    "            <em> col9 = attempt[,:8]<br>\n",
    "                <em>top_middle_square = attempt[0:3, 3:6]</em> </li>\n",
    "        <li> Store these slices in a list called <em>slices</em> </li>\n",
    "        <li> Use <em>np.uniques()</em> to check that each slice has 9 unique values </li>\n",
    "        <li> Return an integer saying how many of the 27 checks the attempt passes</li>\n",
    "    </ul>\n",
    "    <p> <b>HINTS</b> <ul>\n",
    "    <li> If you don't want to define each slice by hand, (like I have started doing above), you could do it <em>programmatically</em> <br>\n",
    "        i.e., by iterating over (0...8) you can define (and then add to the list) the slices for the rows and columns automatically</li>\n",
    "    <li> and then add the 9 sub-square slices either by hand or using 2 nested loops</li>\n",
    "    </ul>\n",
    "</div>    "
   ]
  },
  {
   "cell_type": "code",
   "execution_count": null,
   "metadata": {
    "tags": []
   },
   "outputs": [],
   "source": [
    "def check_sudoku_array(attempt: np.ndarray) -> int:\n",
    "    tests_passed = 0\n",
    "    # your code goes here\n",
    "\n",
    "    # use assertions to check that the array has 2 dimensions each of size 9\n",
    "\n",
    "    slices = []  # this will be a list of numpy arrays\n",
    "    # your code goes here\n",
    "\n",
    "    ## remember all the examples of indexing above\n",
    "    ## and use the append() method to add something to a list\n",
    "\n",
    "    for slice in slices:  # easiest way to iterate over list\n",
    "        pass\n",
    "        # print(slice) - useful for debugging?\n",
    "\n",
    "        # get number of unique values in slice\n",
    "\n",
    "        # increment value of tests_passed as appropriate\n",
    "\n",
    "    # return count of tests passed\n",
    "    return tests_passed"
   ]
  },
  {
   "cell_type": "code",
   "execution_count": null,
   "metadata": {
    "tags": []
   },
   "outputs": [],
   "source": [
    "# some sample code to test your function\n",
    "\n",
    "attempt = np.array(\n",
    "    [\n",
    "        [1, 2, 3, 4, 5, 6, 7, 8, 9],\n",
    "        [2, 3, 4, 5, 6, 7, 8, 9, 1],\n",
    "        [3, 4, 5, 6, 7, 8, 9, 1, 2],\n",
    "        [4, 5, 6, 7, 8, 9, 1, 2, 3],\n",
    "        [5, 6, 7, 8, 9, 1, 2, 3, 4],\n",
    "        [6, 7, 8, 9, 1, 2, 3, 4, 5],\n",
    "        [7, 8, 9, 1, 2, 3, 4, 5, 6],\n",
    "        [8, 9, 1, 2, 3, 4, 5, 6, 7],\n",
    "        [9, 1, 2, 3, 4, 5, 6, 7, 8],\n",
    "    ]\n",
    ")\n",
    "\n",
    "passed = check_sudoku_array(attempt)\n",
    "print(passed)"
   ]
  },
  {
   "cell_type": "markdown",
   "metadata": {},
   "source": [
    "<div class = \"alert alert-warning\" style= \"color:black\">\n",
    "<h2>Activity 5: Submitting your work for marking</h2>\n",
    "<ul> \n",
    "<li> Use the jupyterlab functions to download your work <br> \n",
    "     Ask your tutor if you need help with this <br>\n",
    "     And save it somewhere sensible so you can find it easily.</li>\n",
    "    <li> Then follow the links in the weekly folder in <em>Learning Materials</em> on Blackboard to submit your work for marking  and feedback.</li>\n",
    "<li> You can have up to four goes at submitting your work</li>\n",
    "</ul>\n",
    "</div>"
   ]
  },
  {
   "cell_type": "code",
   "execution_count": null,
   "metadata": {},
   "outputs": [],
   "source": []
  }
 ],
 "metadata": {
  "kernelspec": {
   "display_name": "aienv",
   "language": "python",
   "name": "aienv"
  },
  "language_info": {
   "codemirror_mode": {
    "name": "ipython",
    "version": 3
   },
   "file_extension": ".py",
   "mimetype": "text/x-python",
   "name": "python",
   "nbconvert_exporter": "python",
   "pygments_lexer": "ipython3",
   "version": "3.11.6"
  }
 },
 "nbformat": 4,
 "nbformat_minor": 4
}
