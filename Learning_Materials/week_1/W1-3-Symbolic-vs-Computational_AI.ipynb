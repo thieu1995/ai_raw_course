{
 "cells": [
  {
   "cell_type": "markdown",
   "metadata": {
    "slideshow": {
     "slide_type": "slide"
    }
   },
   "source": [
    "# One Discipline: Two Paradigms\n",
    "\n",
    "\n"
   ]
  },
  {
   "cell_type": "markdown",
   "metadata": {
    "cell_style": "split",
    "slideshow": {
     "slide_type": "fragment"
    }
   },
   "source": [
    "### Symbolic AI\n",
    "<img style=\"float:right;\" src=\"figs/mind.png\">\n",
    "\n",
    "Inspired by ideas of the mind and  building on thousands of years of philosophy about:\n",
    "\n",
    "- what can be known,  \n",
    "world models, absolute truths\n",
    "- types of logic, \n",
    "- facts, rules, ...\n",
    "\n",
    "Reasoning with symbols that 'stand for' external entities or 'truths'.\n",
    " - this was mainstream AI for decades\n"
   ]
  },
  {
   "cell_type": "markdown",
   "metadata": {
    "cell_style": "split",
    "slideshow": {
     "slide_type": "slide"
    }
   },
   "source": [
    "### Computational AI: \n",
    "<img style=\"float: right;\" src=\"figs/brain.jpg\">\n",
    "\n",
    "Inspired by the idea of problem solving arising from  computational processes \n",
    "- the brain   \n",
    "  - a neural signal processor  \n",
    "    with adaptive connections\n",
    "- Genetics + Darwinian evolution \n",
    "- Social Insect Colonies\n",
    "\n",
    "All _appear_ to exhibit intelligent problem solving behaviour\n",
    "\n",
    " "
   ]
  },
  {
   "cell_type": "markdown",
   "metadata": {
    "slideshow": {
     "slide_type": "slide"
    }
   },
   "source": [
    "# How would you describe these three types of fruit?"
   ]
  },
  {
   "cell_type": "markdown",
   "metadata": {
    "cell_style": "split",
    "slideshow": {
     "slide_type": "fragment"
    }
   },
   "source": [
    "\n",
    "  \n",
    "</div><div height = 50%>\n",
    "    <div width=25% style=\"float:left\">  <img style=\"width:100px\" src=\"./figs/green_apple.jpg\" alt=\"Picture of an apple\"/>   </div>\n",
    "    <div width=25% style=\"float:centre\">  <img style=\"width:100px\" src=\"./figs/banana.jpg\" alt=\"Picture of a banana\"/>   </div>\n",
    "        <div width=25% >  <img  style=\"width:100px\" src=\"./figs/orange.jpg\" alt=\"Picture of an orange\" style=\"float:right\"/>   </div>\n",
    "</div>  "
   ]
  },
  {
   "cell_type": "markdown",
   "metadata": {
    "cell_style": "split",
    "slideshow": {
     "slide_type": "fragment"
    }
   },
   "source": [
    "Many people might say:\n",
    "- Apples are green and round and have smooth skin\n",
    "- Oranges are orange and round and have rough skin\n",
    "- Bananas are yellow and long and pointed at both ends and have smooth skin. "
   ]
  },
  {
   "cell_type": "markdown",
   "metadata": {
    "slideshow": {
     "slide_type": "slide"
    }
   },
   "source": [
    "## Symbolic AI says that these are all examples of an abstract class \n",
    "e.g. 'Apples', 'Oranges' or 'Bananas'.\n",
    "\n",
    "To reason about them we make statements in a 'world-model' that are True or False for things of that type\n",
    " - A **Model** encoding human expertise is often  called the **'knowledge base'**"
   ]
  },
  {
   "cell_type": "markdown",
   "metadata": {
    "cell_style": "split",
    "slideshow": {
     "slide_type": "fragment"
    }
   },
   "source": [
    "A mixture of **Facts**\n",
    "\n",
    "|          | Apples | Oranges | Bananas |\n",
    "|----------|--------|---------|---------|\n",
    "| isGreen  | True   |         |         |\n",
    "| IsOrange |        | True    |         |\n",
    "| isYellow |        |         | True    |\n",
    "| isRound  | True   | True    |         |\n",
    "| isLong   |        |         | True    |\n",
    "| isRough  |        | True    |         |\n",
    "| isSmooth | True   |         | True    |"
   ]
  },
  {
   "cell_type": "markdown",
   "metadata": {
    "cell_style": "split",
    "slideshow": {
     "slide_type": "fragment"
    }
   },
   "source": [
    " And  **logic**   \n",
    "\n",
    "usually **Rules** that we can apply to generate new facts  \n",
    "\n",
    "_isRound(x)_ AND _isGreen(x)_  AND _isSmooth(x)_   => _isApple(x)_\n",
    "\n",
    "_isRound(x)_ AND _isOrange(x)_ AND _isRough(x)_    => _isOrange(x)_\n",
    "\n",
    "_isLong(x)_  AND _isYellow(x)_ AND _isSmooth(x)_   => _isBanana(x)_"
   ]
  },
  {
   "cell_type": "markdown",
   "metadata": {
    "slideshow": {
     "slide_type": "slide"
    }
   },
   "source": [
    "## Using a symbolic AI model for prediction\n",
    "\n",
    " <img style=\"float:right\" src = \"figs/lime.jpg\">\n",
    " \n",
    "1. Create the **model** by encoding this knowledge  using rules in your chosen type of  logic \n",
    " \n",
    "\n",
    "\n",
    " \n",
    "2. provide **input** in the form of 'assertions' about a new bit of fruit\n",
    " - _isRound(newfruit)_ = True\n",
    " - _isGreen(newfruit)_ = True\n",
    " \n",
    " \n",
    "3. Make a **prediction** by applying logic (deduction) to infer the _**output**_ \n",
    " - _isApple(newfruit)_ = False"
   ]
  },
  {
   "cell_type": "markdown",
   "metadata": {
    "slideshow": {
     "slide_type": "slide"
    }
   },
   "source": [
    "## How does this work in the real world?\n",
    "1. Decide on a set of features you can measure about objects, for example:\n",
    " - weight in grammes\n",
    " - height/width in cm\n",
    " - mean RGB values of image\n",
    "\n",
    "2. Measure values of those features for a set of examples\n",
    " - store these in a Dataset (e.g. numpy 2D array).\n",
    " - one row per example,\n",
    " - one column for each feature \n",
    " - one column for the label (orange/apple/banana)  \n",
    "  or put the label in a separate array"
   ]
  },
  {
   "cell_type": "markdown",
   "metadata": {
    "slideshow": {
     "slide_type": "slide"
    }
   },
   "source": [
    "**Colour**     (from www.colorhexa.com)\n",
    "-    In a RGB color space, hex #ffe135 (also known as Banana yellow) is composed of 100% red, 88.2% green and 20.8% blue. \n",
    "-    In a RGB color space, hex #8db600 (also known as Apple green) is composed of 55.3% red, 71.4% green and 0% blue.\n",
    "-    In a RGB color space, hex #ffa500 (also known as Orange) is composed of 100% red, 64.7% green and 0% blue.\n",
    "    \n",
    "**Size** from quick search on internet (using the _'are sites consistent?'_ heuristic)\n",
    "-    banana: width 130 +/- 15 mm height 28 +/- 05 cm, weight 125 +/- 10 gm\n",
    "- apple    width = height = 80mm  +/-    weight = 340 g\n",
    "- orange   width = height = 76mm   +/-   weight = 357 g\n",
    "    \n",
    "    \n",
    "\n",
    "````\n",
    "# values ( mean_red, mean_green, mean_blue,width, height, weight)\n",
    "typical_banana = (100,88.2,20.8,130,28,125 )\n",
    "typical_apple = (55.3,71.4,0,80,80,340)\n",
    "typical_orange = (100,64.7,0,76,76,357)\n",
    "````"
   ]
  },
  {
   "cell_type": "markdown",
   "metadata": {
    "slideshow": {
     "slide_type": "slide"
    }
   },
   "source": [
    "# Make some fake data\n",
    " Unless you each have thre pieces of fruit with you?\n",
    "\n",
    "### We'll use a function built into sklearn to create datasets\n",
    "It takes the 'ideal' values then adds small amounts of noise"
   ]
  },
  {
   "cell_type": "code",
   "execution_count": null,
   "metadata": {
    "scrolled": true,
    "slideshow": {
     "slide_type": "slide"
    }
   },
   "outputs": [],
   "source": [
    "import w1_utils, numpy as np, matplotlib.pyplot as plt\n",
    "\n",
    "np.set_printoptions(precision=2)\n",
    "\n",
    "feature_values, labels = w1_utils.make_fake_fruit()\n",
    "for feats, label in zip(feature_values, labels):\n",
    "    print(feats, label)"
   ]
  },
  {
   "cell_type": "markdown",
   "metadata": {
    "slideshow": {
     "slide_type": "slide"
    }
   },
   "source": [
    "### We list our data and use matplotlib to create visualisations of what our data looks like"
   ]
  },
  {
   "cell_type": "code",
   "execution_count": null,
   "metadata": {
    "scrolled": true,
    "slideshow": {
     "slide_type": "fragment"
    }
   },
   "outputs": [],
   "source": [
    "fig = w1_utils.make3dscatters(feature_values, labels)\n",
    "plt.show()"
   ]
  },
  {
   "cell_type": "markdown",
   "metadata": {
    "slideshow": {
     "slide_type": "slide"
    }
   },
   "source": [
    "## Symbolic AI\n",
    "Have to write code  that can:\n",
    " - extract meaning from these numerical features\n",
    " - to generate True/False for symbols like isLong() or isYellow()\n",
    " - those symbols are what used to do reasoning in the model"
   ]
  },
  {
   "cell_type": "markdown",
   "metadata": {
    "slideshow": {
     "slide_type": "slide"
    }
   },
   "source": [
    "# Computational AI: \n",
    "\n",
    "- **Machine Learning**  creates models using algorithms that learn by trial and error from datasets (examples)\n",
    "- **Heuristic Optimisation** takes a similar 'trial and error' approach to finding and improving solutions to optimisation problems"
   ]
  },
  {
   "cell_type": "markdown",
   "metadata": {
    "cell_style": "center",
    "slideshow": {
     "slide_type": "fragment"
    }
   },
   "source": [
    "## Our fruit example\n",
    "\n",
    "1. Get dataset of examples\n",
    "2. Apply an algorithm to **find decision boundaries** that separate the examples into classes    \n",
    "learned model = set of decision boundaries + labels for the regions they define\n",
    "3. Make **prediction** by looking at where a new example is in relation to those boundaries"
   ]
  },
  {
   "cell_type": "markdown",
   "metadata": {
    "cell_style": "split",
    "slideshow": {
     "slide_type": "slide"
    }
   },
   "source": [
    "# Summary\n",
    "## Two different approaches,  both with strengths and weaknesses\n",
    " 1. Symbolic (Knowledge-based):\n",
    "  - based on logic, facts and rules\n",
    "  - uses a human-provided world model\n",
    " 2. Computational AI\n",
    "  - Algorithms that learn from experience\n",
    "  - only as good as their experience\n",
    "  "
   ]
  },
  {
   "cell_type": "markdown",
   "metadata": {
    "cell_style": "split",
    "slideshow": {
     "slide_type": "fragment"
    }
   },
   "source": [
    "## Key Difference: \n",
    "In symbolic AI everything 'stands for' something in the real world.\n",
    "\n",
    "- So you might write a function: Bool  isYellow( inr red, int green, int blue)\n",
    " - but it would be meangingless to pass values for width/height/weight into isYellow()\n",
    " - and the rules that define the 'fruit' model can't be used for anything else\n",
    "\n",
    "In Computational AI 'everything is just numbers', \n",
    "- nothing has any special meaning\n",
    "- so algorithms become more re-usable."
   ]
  },
  {
   "cell_type": "markdown",
   "metadata": {
    "slideshow": {
     "slide_type": "slide"
    }
   },
   "source": [
    "## You need to be able to: \n",
    " - **Describe** the differences between these approaches\n",
    " - **Select** (and explain) whether to choose a computational or knowledge-based solution  \n",
    " to solve a given problem _in it's context_. \n",
    " "
   ]
  }
 ],
 "metadata": {
  "celltoolbar": "Slideshow",
  "kernelspec": {
   "display_name": "aienv",
   "language": "python",
   "name": "aienv"
  },
  "language_info": {
   "codemirror_mode": {
    "name": "ipython",
    "version": 3
   },
   "file_extension": ".py",
   "mimetype": "text/x-python",
   "name": "python",
   "nbconvert_exporter": "python",
   "pygments_lexer": "ipython3",
   "version": "3.11.6"
  }
 },
 "nbformat": 4,
 "nbformat_minor": 4
}
