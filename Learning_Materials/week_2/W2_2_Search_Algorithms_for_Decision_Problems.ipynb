{
 "cells": [
  {
   "cell_type": "markdown",
   "metadata": {
    "slideshow": {
     "slide_type": "slide"
    }
   },
   "source": [
    "## Problem Solving As Search\n",
    "\n",
    "### Search Algorithms for Decision Problems\n",
    "\n",
    "### Artificial Intelligence 1: Week 2, part 2"
   ]
  },
  {
   "cell_type": "markdown",
   "metadata": {
    "slideshow": {
     "slide_type": "slide"
    }
   },
   "source": [
    "## This lecture\n",
    "Recap:\n",
    "- problem solving as search,\n",
    "- Search landscapes\n",
    "- Generate and Test as a common framework\n",
    "\n",
    "Search methods maintain ordered lists\n",
    "- that represent the working memory\n",
    "- in this module we are looking at 'single member' algorithms  \n",
    "  where we generate test one new solution at a time\n",
    "\n",
    "This week: Uninformed ‘Blind” search: depth/breadth-first\n",
    "\n",
    "Next Week:  Adding heuristic measures: A*, best-first, hill-climbing\n"
   ]
  },
  {
   "cell_type": "markdown",
   "metadata": {
    "slideshow": {
     "slide_type": "slide"
    }
   },
   "source": [
    "## Recap 1: Problem solving == searching for the right solution\n",
    "- Learning and problem solving can be seen as a search through a set of possible solutions or states.\n",
    "\n",
    "- Set of candidate solutions + move operator =>landscape\n",
    "\n",
    "- Sometimes we have quality measures to help guide  search\n",
    "  - landscape with extra dimension for quality\n",
    "  - Ideas of local and global optima\n",
    "- Sometimes not (decision problems)\n",
    "  - ‘needle in a haystack’ – nothing to guide search\n",
    "  - e.g.,finding the unlock code for a combination lock\n",
    "- **Constructive** Search: build up partial solutions,   \n",
    "  until we reach necessary complexity \n",
    "- **Perturbative** Search: all solutions have the same complexity\n"
   ]
  },
  {
   "cell_type": "markdown",
   "metadata": {
    "slideshow": {
     "slide_type": "slide"
    },
    "tags": []
   },
   "source": [
    "## Recap 2: Classes of problems\n",
    "- an actual optimisation/modelling/prediction problem to solve is an *instance* of a class of problems\n",
    "  - e.g. a specific route to find\n",
    "  - a specific data set to train and test a model on\n",
    "- The type of problem defines:\n",
    "  - what decisions a candidate solution must specify\n",
    "  - what values those decisions can have (Bools / floats / integer \"value_set\")\n",
    "- a test() / evaluate() / score() method uses:\n",
    "  - the variables that specify a unique candidate solution\n",
    "  - the variables/data that specify a unique problem instance\n",
    "  - returns a quality score\n",
    "  - if the score is a Boolean** we have a **Decision problem**\n",
    "\n",
    "Note that machine learning toolkits like sklearn/tensorflow  organise the classes and methods differently.  \n",
    "But this is just an implementation choice as they are only designed only solve modelling probems."
   ]
  },
  {
   "cell_type": "markdown",
   "metadata": {
    "slideshow": {
     "slide_type": "slide"
    }
   },
   "source": [
    "## Recap 3: Solution = node in search graph / tree\n",
    "<img src = \"figures/solution_as_node.png\" style=\"float:right\" width =45%>\n",
    "\n",
    "Depending on your preferred coding paradigm ( and language)\n",
    "you could either encode solutions\n",
    "\n",
    "As a data type e.g. a struct in C\n",
    "```\n",
    "typedef struct {  \n",
    "  int numbers[N];  \n",
    "  int depth;  \n",
    "  int quality;  \n",
    "  } solution*\n",
    "```     \n",
    "Or as a class in OOP e.g. python  \n",
    "``` \n",
    "class CandidateSolution:\n",
    "        self.variable_values \n",
    "        self.quality\n",
    "        self.depth\n",
    "        self.meets_constraints\n",
    "```        "
   ]
  },
  {
   "cell_type": "markdown",
   "metadata": {
    "slideshow": {
     "slide_type": "slide"
    },
    "tags": []
   },
   "source": [
    "## Recap 4: different move operators create different landscapes "
   ]
  },
  {
   "cell_type": "code",
   "execution_count": 11,
   "metadata": {
    "cell_style": "center",
    "scrolled": true,
    "slideshow": {
     "slide_type": "subslide"
    },
    "tags": []
   },
   "outputs": [],
   "source": [
    "# then we can have many move operators without changing the class definition\n",
    "def Increment(attempt: CandidateSolution, decision: int):\n",
    "    \"\"\"changes the value of a single decision by +1\"\"\"\n",
    "    attempt.variable_values[decision] += 1\n",
    "\n",
    "\n",
    "def AddTwo(attempt: CandidateSolution, variableToChange: int):\n",
    "    \"\"\"changes the value of a single decision by +1\"\"\"\n",
    "    attempt.variable_values[decision] += 2\n",
    "\n",
    "\n",
    "def swapValues(attempt: CandidateSolution, decision1: int, decision2: int):\n",
    "    \"\"\"swaps the values of two decisions\"\"\"\n",
    "    tmp = attempt.variable_values[decision1]\n",
    "    attempt.variable_values[decision1] = attempt.variable_values[decision2]\n",
    "    attempt.variable_values[decision2] = tmp"
   ]
  },
  {
   "cell_type": "markdown",
   "metadata": {
    "slideshow": {
     "slide_type": "slide"
    },
    "tags": []
   },
   "source": [
    "## Recap 5: Properties of Search Algorithms\n",
    "\n",
    "Ways of generating solutions would ideally be:\n",
    "- Optimal \n",
    "- Complete \n",
    "- Efficient \n",
    "\n",
    "Can't be all three, \n",
    " - so **you** (the designer) have to make  a ** decision** about the best trade-offs\n",
    "  - in the context of  **your** problem\n",
    "  \n",
    "<div> \n",
    "    <div style= \"float:left\" width=25%><img src=\"figures/optimal.png\" width=200px></div>\n",
    "     <div style= \"float:left\" width=25%><img src=\"figures/complete.png\" width=200px> </div>\n",
    "    <div  style=\"float:left\" width=25%><img src=\"figures/efficient.png\" width=200px></div>\n",
    "</div>    \n",
    "\n",
    "\n",
    "\n"
   ]
  },
  {
   "cell_type": "markdown",
   "metadata": {
    "slideshow": {
     "slide_type": "slide"
    },
    "tags": []
   },
   "source": [
    "## Recap 6: Search using a Generate-test loop\n",
    "\n",
    "- A common framework we can use to solve many different problems,\n",
    "  - by changing the representation and  the test() function\n",
    "- switching between:\n",
    "  - different algorithms\n",
    "    - by changing  how we specify SelectAndMoveFromOpenList() \n",
    "  - landscapes\n",
    "    - by changing the ApplyMoveOperator() function\n",
    "  - Constructive or Perturbative Search\n",
    "    - constructive: ApplyMoveOperator()  **extends** working_candidate to make neighbours\n",
    "    - perturbative: ApplyMoveOperator()  **changes values in** working_candidate to make neighbours"
   ]
  },
  {
   "cell_type": "markdown",
   "metadata": {},
   "source": [
    "![flow diagram](./figures/generate-and-test.png)"
   ]
  },
  {
   "cell_type": "markdown",
   "metadata": {
    "slideshow": {
     "slide_type": "slide"
    },
    "tags": []
   },
   "source": [
    "## Quiz Questions:\n",
    "- A point that is locally optimal for one landscape, will still be if you change the move operator? [True: False]\n",
    "- In which if these situations might optimality be less important than efficiency?\n",
    "  - Speech recognition software for dictation\n",
    "  - Fingerprint recognition \n",
    "  - Neither\n",
    "  - Both\n",
    "\n",
    "- Is Exhaustive Search Optimal, Complete and Efficient (True: False x 3]\n",
    "\n"
   ]
  },
  {
   "cell_type": "markdown",
   "metadata": {
    "slideshow": {
     "slide_type": "slide"
    }
   },
   "source": [
    "# Decision Problems and Uninformed search\n",
    "\n",
    "- Some problems come with a natural measure of quality\n",
    "\n",
    "- But sometimes we just have a ‘yes/no’ response:\n",
    "  - Password cracking\n",
    "  - ‘can I get from A to B’ without using toll roads?\n",
    "  - Did I save that file ...\n",
    "  \n"
   ]
  },
  {
   "cell_type": "markdown",
   "metadata": {
    "slideshow": {
     "slide_type": "slide"
    }
   },
   "source": [
    "## Example: fox-grain-chicken\n",
    "\n",
    "You have a fox, a chicken and a sack of grain. \n",
    "\n",
    "You must cross a river with only one of them at a time. \n",
    "\n",
    "- If you leave the fox with the chicken he will eat it; \n",
    "\n",
    "- If you leave the chicken with the grain she will eat it. \n",
    "\n",
    "Can you get all three across safely in less than N (e.g. ten)  moves?"
   ]
  },
  {
   "cell_type": "markdown",
   "metadata": {
    "slideshow": {
     "slide_type": "slide"
    }
   },
   "source": [
    "## What type of problem is this?\n",
    "\n",
    "Relevant \"bit of the world\"  is dictated by the rules:\n",
    "they form the model of our system and the constraints\n",
    "\n",
    "We are given “goal state” (final output to reach)\n",
    "\n",
    "So this is an optimisation problem;\n",
    "- Allowed moves defines a graph.\n",
    "- The current state is defined by the position of the  fox, chicken, grain, and boat:  \n",
    "  either  on first bank (0) or second bank (1)\n",
    "- Seeking sequence of inputs that moves through graph from (0,0,0,0) to (1,1,1,1) \n",
    "\n",
    "**Constraints**: fox and chicken,  or chicken and grain can't be on same side without boat\n",
    " - i.e. solutions are **infeasible** if they pass through:\n",
    "   -  {0,0,0,1},{1,1,1,0}   (both problem pairs left unattended)\n",
    "   -  {0 0, 1,1}, {1,1,0,0}   (fox and chicken unattended)\n",
    "   -  {0,1,1,0}, {1,0,0,1}  )chicken and grain unattended)\n"
   ]
  },
  {
   "cell_type": "markdown",
   "metadata": {
    "slideshow": {
     "slide_type": "slide"
    }
   },
   "source": [
    "## Diagram of partial graph for this problem\n",
    "Figure show partial graph for this problem, not all moves below final row shown. \n",
    "<img src = \"figures/fox-chicken-grain-partial-graph.png\" width=50%>"
   ]
  },
  {
   "cell_type": "markdown",
   "metadata": {
    "slideshow": {
     "slide_type": "slide"
    }
   },
   "source": [
    "## How would you solve this?<img src = \"figures/fox-chicken-grain-partial-graph.png\" style = \"float:right\" width=25%>\n",
    "\n",
    "Informally, if you give this to people as an exercise, what they do is:   \n",
    "- start at one node of graph,\n",
    "- follow one path e.g. {chicken,boat}->,  <-boat, ...  \n",
    "  until they reach a problem (INFEASIBLE)   \n",
    "  (either fox and chicken   \n",
    "  or chicken and grain on the same side),\n",
    "- then backtrack to previous “ok” node and try alternative move.\n",
    "\n",
    "<div style=\"color:red;font-style:bold;font-size:20pt\"> This is an example of Constructive Depth-First Search.</div>\n",
    "\n",
    "\n"
   ]
  },
  {
   "cell_type": "markdown",
   "metadata": {
    "slideshow": {
     "slide_type": "slide"
    },
    "tags": []
   },
   "source": [
    "# Depth-First Search for Decision Problems\n",
    "\n",
    "Simple application of our single member search algorithm\n",
    "- always pick the next item from the END of the open list\n",
    "- this guarantees it is the last thing put on\n",
    "- So we just treat the openlist like a **stack**\n",
    "\n",
    "### Pseudocode within our framework\n",
    "Only need to define one function\n",
    "<div style=\"background:#F0FFFF\">\n",
    "    <dl>\n",
    "        <dt><b>SelectAndMoveFromOpenList()</b></dt>\n",
    "        <dd> my_index &larr; <b>GetLastIndex</b>(open_list)</dd>\n",
    "        <dd> the_candidate &larr; open_list(my_index)</dd>\n",
    "        <dd> <b>RemoveFromOpenList</b>(my_index)</dd>\n",
    "        <dd> <b>Return</b>(the_candidate)</dd>\n",
    "    </dl>\n",
    "    </div>"
   ]
  },
  {
   "cell_type": "markdown",
   "metadata": {
    "slideshow": {
     "slide_type": "slide"
    }
   },
   "source": [
    "## Depth-First Search Choices\n",
    "\n",
    "**Constructive**: when\n",
    "1. you don't know how complex the solution has to be  e.g., fox-chicken-grain type puzzles, tic-tac-toe, or\n",
    "2. the constraints mean you can test and rule out unproductive branches before you get a complete solution e.g. NQueens\n",
    "\n",
    "Potential large solutions means that you sometimes require *problem-specific code to detect loops* \n",
    " \n",
    "\n",
    "**Perturbative**:    when \n",
    "1. you know the complexity and  can only test complete solutions e.g. combination locking cracking, \n",
    "2. you can limit the complexity i.e. fox-grain-chicken  with only ten moves and 'do-nothing' added as a possible move\n",
    "\n",
    "Really common idea is to think of the “atomic” move operator  \n",
    "   i.e. the one that makes the smallest change\n",
    " "
   ]
  },
  {
   "cell_type": "markdown",
   "metadata": {
    "slideshow": {
     "slide_type": "slide"
    }
   },
   "source": [
    "### What does this look like for fox-chicken-grain problem?\n",
    "\n",
    "A candidate solution is a sequence of moves of boat with different (or no) cargo\n",
    "\n",
    "We **decode** these to track the locations of (fox,chicken,grain,boat)  as the solution is played out\n",
    "- a solution is invalid if it tries to move something that is not there\n",
    "- or if it leaves the chicken alone with the fox or the grain\n",
    "\n",
    "There are 8 moves in total {nothing,fox,chicken,grain} X {bank1to2, bank2to1}\n",
    "- number these from 0 to 7: \n",
    "\n"
   ]
  },
  {
   "cell_type": "markdown",
   "metadata": {
    "slideshow": {
     "slide_type": "slide"
    }
   },
   "source": [
    "### So in our implementation:  \n",
    "\n",
    "**FoxChickenGrain**.value_set = \\[0,1,2,3,4,5,6,7]\n",
    "\n",
    "**FoxChickenGrain**.evaluate(attempt:CandidateSolution): \n",
    "- initialises ```locations:dict = {'fox':0,'chicken':0,'grain':0,'boat':0}```\n",
    "- loops through list ```attempt.variable_values```\n",
    "   - **get** next move from list\n",
    "   - **if**  move can't be applied (things in wrong places):   \n",
    "       **return** INFEASIBLE (-1) \n",
    "  - **else**  \n",
    "    apply move by editing ```locations```\n",
    "  - **if** next state in forbidden list:  \n",
    "        **return** INFEASIBLE (-1)\n",
    "  - **if** next state = (1,1,1,1):    \n",
    "      **return** SUCCESS (1)\n"
   ]
  },
  {
   "cell_type": "markdown",
   "metadata": {
    "slideshow": {
     "slide_type": "slide"
    }
   },
   "source": [
    "### Choices for *ApplyMoveOperator()* \n",
    "- **perturbative** (assuming *fixed number of N* moves):  \n",
    "   - nested loop through each position (1...N) and value (0...7) **changing**  a specific move to the new value\n",
    "   - so each solution has *N* moves and 7*N* neighbours  \n",
    "    (7 different values in *N* different position)  \n",
    "  \n",
    "- **constructive**:  \n",
    "  - take working_candidate with n (<N) moves\n",
    "  - loop through each possible extra move **adding** that to the *n* existing ones   \n",
    "  - i.e.  each solution with *n* moves has  8 neighbours, all with *n+1* moves"
   ]
  },
  {
   "cell_type": "markdown",
   "metadata": {
    "slideshow": {
     "slide_type": "slide"
    }
   },
   "source": [
    "## Depth-First Search Characteristics\n",
    "**Efficient**:\n",
    "- Can find solutions quickly.\n",
    "- Only needs a small amount of storage space:\n",
    "  - current solution, best seen, plus path followed. "
   ]
  },
  {
   "cell_type": "markdown",
   "metadata": {
    "slideshow": {
     "slide_type": "fragment"
    },
    "tags": []
   },
   "source": [
    "But not **Optimal** or **Complete**:\n",
    " - could get stuck for a long time searching an infinite or very deep branch of the tree,\n",
    " - especially if recursion is possible.\n",
    " - Hard to avoid this for constructive search.  \n",
    "   - would have to write **problem-specific**  code that tracked what states are visited and flagged loops as infeasible\n",
    " -  If using a ‘perturbative’ approach can check whether solution has already been seen before adding it to open list\n",
    "\n",
    "Implemented as a “stack” system: Last In First Out (LIFO)"
   ]
  },
  {
   "cell_type": "markdown",
   "metadata": {
    "slideshow": {
     "slide_type": "slide"
    }
   },
   "source": [
    "## Breadth-First search<img src = \"figures/fox-chicken-grain-partial-graph.png\" style = \"float:right\" width=30%>\n",
    "### Basic Idea\n",
    "Examine all the possible options at each depth/level of the graph  \n",
    "**before** proceeding to next level down the graph\n",
    "\n",
    "In the context of **constructive** search this means:  \n",
    "Examine all the solutions of a given complexity \n",
    "**before** increasing the complexity\n"
   ]
  },
  {
   "cell_type": "markdown",
   "metadata": {
    "slideshow": {
     "slide_type": "slide"
    }
   },
   "source": [
    "## Breadth-First Search Pseudocode \n",
    " \n",
    "Only need to define one function.\n",
    "Note only one line is different to depth-first search\n",
    "<div style=\"background:#F0FFFF;\">\n",
    "    <dl>\n",
    "        <dt><b>SelectAndMoveFromOpenList()</b></dt>\n",
    "        <dd> my_index &larr; <b>GetFirstIndex</b>(open_list)</dd>\n",
    "        <dd> the_candidate &larr; open_list(my_index)</dd>\n",
    "        <dd> <b>RemoveFromOpenList</b>(my_index)</dd>\n",
    "        <dd> <b>Return</b>(the_candidate)</dd>\n",
    "    </dl>\n",
    "    </div>"
   ]
  },
  {
   "cell_type": "markdown",
   "metadata": {
    "slideshow": {
     "slide_type": "slide"
    }
   },
   "source": [
    "## Characteristics of Breadth-First Search \n",
    "\n",
    "Complete: Guaranteed to find solution if one exists.\n",
    "\n",
    "Optimal: guaranteed to find closest solution to start\n",
    "\n",
    "Efficient?\n",
    " - Works well when solution is near root,  \n",
    "   especially if some branches are very deep. \n",
    " - Higher Storage Overheads:  \n",
    "   especially if branching factor at each node is high,  \n",
    "   e.g. chess ….\n",
    "   - have to store each node at current level.\n",
    " - have to store current tree – lots of retracing steps.\n",
    "\n",
    "Implement as a Queue first-in-first-out (FIFO)\n",
    "\n",
    "Often called “Flood-fill” in games/path-finding \n",
    "(because they like to think they’ve invented something)\n"
   ]
  },
  {
   "cell_type": "markdown",
   "metadata": {
    "slideshow": {
     "slide_type": "slide"
    },
    "tags": []
   },
   "source": [
    "## Depth-First vs Breadth First\n",
    "### Example simple decision problem: Given the graph below is there a solution with cost <5?\n",
    "\n",
    "<img src=\"figures/depth-with-list.png\" width = 50%>\n",
    "<img src=\"figures/breadth-with-list.png\" width = 50%>\n",
    "\n"
   ]
  },
  {
   "cell_type": "markdown",
   "metadata": {
    "slideshow": {
     "slide_type": "slide"
    }
   },
   "source": [
    "### Characteristics to take into account when choosing between them\n",
    "\n",
    "- Depth-first is often quicker:\n",
    "  - but may waste time in deep unproductive branches.\n",
    "  - could apply a depth limit,  \n",
    "    but then may never find solution.\n",
    "- Depth-first will return first solution found\n",
    "   – which may may not be the best.\n",
    "- Breadth-first often slower, takes more storage, but is\n",
    "  - “complete” i.e. guaranteed to find solution if one exists,\n",
    "  - “optimal” i.e. will find the best solution at any given depth.\n",
    "- Both are “tentative – they allow backtracking.\n",
    "- Both can be applied to either constructive or perturbative search\n"
   ]
  },
  {
   "cell_type": "markdown",
   "metadata": {
    "slideshow": {
     "slide_type": "slide"
    },
    "tags": []
   },
   "source": [
    "## Quiz Questions\n",
    "- Theseus in the maze with his ball of string, seeking the Minotaur, was doing?\n",
    "- A search party fanning out and recruiting more people as they consider bigger areas is doing a parallel version of?\n",
    "\n",
    "- which is which? black numbers show order nodes are examined, white numbers show the quality of that node\n",
    "\n",
    "Which is which?\n",
    "- X is often quicker\n",
    "   - but may waste time in unproductive branches.\n",
    "- X will return first solution found\n",
    "    – that may not be the best / simplest.\n",
    "    \n",
    "- Y is often slower, \n",
    "- Y takes more storage, \n",
    "- but Y  is\n",
    "  - “complete” i.e. guaranteed to find solution if one exists,\n",
    "  - “optimal” i.e. will find the best solution at any given depth."
   ]
  },
  {
   "cell_type": "markdown",
   "metadata": {
    "slideshow": {
     "slide_type": "slide"
    }
   },
   "source": [
    "## Summary\n",
    "\n",
    "Decision problems:    \n",
    "- only a 'yes/no' answer\n",
    "- can have multiple solutions with different complexity\n",
    "- often associated with **Constraint Satisfaction Problems**\n",
    "\n",
    "**Breadth-first** and **Depth-first**  are 'blind' or 'uninformed' search algorithms.  \n",
    "\n",
    "You need to understand and be able to recognise:\n",
    " - when to apply them\n",
    " - what their characteristics are\n",
    " \n",
    "If we give you a scenario you should be able to select an appropriate method and justify your choice.\n",
    "\n",
    "### Next week:    search algorirthms for problem-solving guided by  a quality/cost function \n",
    " "
   ]
  }
 ],
 "metadata": {
  "celltoolbar": "Slideshow",
  "kernelspec": {
   "display_name": "Python 3 (ipykernel)",
   "language": "python",
   "name": "python3"
  },
  "language_info": {
   "codemirror_mode": {
    "name": "ipython",
    "version": 3
   },
   "file_extension": ".py",
   "mimetype": "text/x-python",
   "name": "python",
   "nbconvert_exporter": "python",
   "pygments_lexer": "ipython3",
   "version": "3.11.6"
  }
 },
 "nbformat": 4,
 "nbformat_minor": 4
}
