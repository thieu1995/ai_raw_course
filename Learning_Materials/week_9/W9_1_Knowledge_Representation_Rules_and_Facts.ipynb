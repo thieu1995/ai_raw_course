{
 "cells": [
  {
   "cell_type": "markdown",
   "metadata": {
    "slideshow": {
     "slide_type": "slide"
    }
   },
   "source": [
    "# Artificial Intelligence Topic 1: Knowledge Representation\n",
    "\n",
    "## Week  9 : Knowledge Representation Basics: Rules and Facts\n"
   ]
  },
  {
   "cell_type": "markdown",
   "metadata": {
    "slideshow": {
     "slide_type": "notes"
    }
   },
   "source": [
    "\n",
    "Hi, welcome to the final topic week of the Artificial Intelligence module.\n",
    "\n",
    "This is concerned with how we store and manipulate knowledge.\n",
    "\n",
    "We will be predominantly dealing with the realm of symbolic AI in this topic,  but many of the ideas hold not just across all forms of AI, but also \n",
    "across computer-based systems, mathematics, and logic more generally"
   ]
  },
  {
   "cell_type": "markdown",
   "metadata": {
    "slideshow": {
     "slide_type": "slide"
    }
   },
   "source": [
    "\n",
    "## Outline for this session"
   ]
  },
  {
   "cell_type": "markdown",
   "metadata": {
    "cell_style": "split",
    "slideshow": {
     "slide_type": "fragment"
    }
   },
   "source": [
    "### Part 1:  Encoding knowledge\n",
    "- Facts: assertions about the world\n",
    "- Rules: how facts link together"
   ]
  },
  {
   "cell_type": "markdown",
   "metadata": {
    "cell_style": "split",
    "slideshow": {
     "slide_type": "fragment"
    }
   },
   "source": [
    "### Part 2: Knowledge about Knowledge\n",
    "- meta-knowledge: \n",
    "- ontologies for sharing meta knowledge\n",
    "- Long-term vs short term knowledge\n",
    "- generic vs domain specific knowledge   \n",
    "  which affects how it is stored"
   ]
  },
  {
   "cell_type": "markdown",
   "metadata": {
    "cell_style": "center",
    "slideshow": {
     "slide_type": "fragment"
    }
   },
   "source": [
    "### Part 3:  Example: AIML for building chatbot knowledge base"
   ]
  },
  {
   "cell_type": "markdown",
   "metadata": {
    "cell_style": "center",
    "slideshow": {
     "slide_type": "slide"
    }
   },
   "source": [
    "### Absolute Truths vs Assertions\n",
    "\n",
    "<div style= \"background:lightblue\">\n",
    " Please note, that with no intent to cause offence, in this module I am ignoring:<ul>\n",
    "                              <li> religious viewpoints </li>\n",
    "    <li> philosophical viewpoints such as Cartesian perspectives, phenomenology and existentialism </li>\n",
    "    </ul>\n",
    "</div>\n",
    "The 'scientific' perspective: we  make **observations**,   \n",
    "- on the basis of which *we make *assertions**.\n",
    "\n",
    "From these we derive a **theory** or **hypothesis** which attempts to _explain_ those observations and let us make **predictions**.\n",
    "- Theories usually start from a basis of **axioms**\n",
    "- **We cannot prove theories to be true**: \n",
    "- At best we can say that:  \n",
    " `within the bounds of the axioms and the form of logic applied,`  \n",
    " `an inference  is **sound**`"
   ]
  },
  {
   "cell_type": "markdown",
   "metadata": {
    "cell_style": "split",
    "slideshow": {
     "slide_type": "slide"
    }
   },
   "source": [
    "### Example: 'Euclidean'  geometry \n",
    "#### Axioms\n",
    "<!--\n",
    "<img style=\"float: right;\" src=\"figs/interior-angles-triangle.gif\" height=\"50\" >\n",
    "-->\n",
    "\n",
    "1. For any two different points, there exists a unique line containing these two points.\n",
    "2. A straight line segment can be prolonged indefinitely.\n",
    "3. A circle can be constructed when a point for its centre and a distance for its radius are given.\n",
    "4. All right angles are equal.\n",
    "5. For any line L and point p not on L, there exists a single unique line through p not meeting L.\n",
    "\n",
    "From these we can derive useful theorems such as:\n",
    "\n",
    "_the sum of the interior angles of a triangle is 180 degrees_"
   ]
  },
  {
   "cell_type": "markdown",
   "metadata": {
    "cell_style": "split",
    "slideshow": {
     "slide_type": "slide"
    },
    "tags": []
   },
   "source": [
    "## Counter example: Angles on earth\n",
    "\n",
    "<img style=\"float: right;\" width=400 src=\"figs/rightangles-earth.png\">\n",
    "\n",
    "Points A, B and C make a triangle with straight lines connecting the sides,    \n",
    "but the interior angles add up to 270 degrees\n",
    "\n",
    "This is because on a curved surface some of the axioms do not hold\n",
    "\n",
    "- do you know which?\n"
   ]
  },
  {
   "cell_type": "markdown",
   "metadata": {
    "slideshow": {
     "slide_type": "slide"
    }
   },
   "source": [
    "# Intelligence needs knowledge\n",
    "\n",
    "<img style=\"float: right;\" src=\"figs/FrancisBacon.png\">\n",
    "\n",
    "For computers to do anything useful they need to represent the real world in some way\n",
    "\n",
    "\n",
    "How you do this will affect:\n",
    "- What your system can do,  \n",
    "- How widely it can be applied,\n",
    "- *Trust* in your system\n",
    "\n",
    "So although I'm going to use commonly accepted language for shorthand, it is important to bear in mind that:\n",
    "- although we talk about *facts* , really we  are dealing with *assertions*,  \n",
    "- the validity of any results is limited by whether the *axioms* embedded (or often implicit) in the world model hold true \n",
    "\n",
    "None of this is new to anyone who has experienced some of the controversies on social media\n",
    "- For example, I'm writing this slide in the middle of a pandemic, and on the day of the 2020 US elections. \n",
    "- In both cases  we are seeing  the collision of very different world views, leading to conflicting assertions being made.\n",
    "\n",
    "This goes to highlight why issues like  _Accountability_ , _Fairness_ , and _Trust_ are so important. \n"
   ]
  },
  {
   "cell_type": "markdown",
   "metadata": {
    "slideshow": {
     "slide_type": "slide"
    }
   },
   "source": [
    "### We need to store information about\n",
    "- Objects (people, places, things) \n",
    "- Events (time and place) \n",
    "- Actions and consequences (\"if A is False then B is  True\", what will happen if...),  \n",
    "- Meta-knowledge (knowledge about knowledge: how sure am I? Who told me?) \n",
    "\n",
    "The building blocks are *Facts*, *Rules* and *Ontologies*\n",
    "\n"
   ]
  },
  {
   "cell_type": "markdown",
   "metadata": {
    "cell_style": "split",
    "slideshow": {
     "slide_type": "slide"
    },
    "tags": []
   },
   "source": [
    "### Facts\n",
    "<img style=\"float: right;\" src=\"./figs/green_apple.jpg\" alt=\"Picture of an apple\" width = \"200\" height= \"200\"> \n",
    "\n",
    "- Assert a relationship between a thing and a property\n",
    "- Also known as _predicates_\n",
    "- Often represented as Boolean or integer variables\n",
    "\n",
    "  \n",
    "\n",
    "\n",
    "_IsRound(myFruit) = True_\n",
    "\n",
    "_IsGreen(myFruit) = True_\n",
    "\n",
    "_IsSmooth(myFruit) = True_"
   ]
  },
  {
   "cell_type": "markdown",
   "metadata": {
    "cell_style": "split",
    "slideshow": {
     "slide_type": "slide"
    },
    "tags": []
   },
   "source": [
    "### Rules\n",
    "\n",
    "- Assert a relationship between two facts\n",
    "- Are used to generate new knowledge \n",
    " - e.g. set values for variables\n",
    " \n",
    "General form:\n",
    "\n",
    "IF (conditions) THEN (action)\n",
    "\n",
    "\n",
    " \n",
    "_isRound(x)_ AND _isGreen(x)_  AND _isSmooth(x)_   => _isApple(x)_"
   ]
  },
  {
   "cell_type": "markdown",
   "metadata": {
    "slideshow": {
     "slide_type": "slide"
    }
   },
   "source": [
    "## Simple example in python\n",
    "\n",
    "Note that this implementation:\n",
    "\n",
    "- Tries to apply rules in the order they  appear in the ruleset\n",
    "- Is designed to be readable by novice python users rather than efficiently making use of python features\n",
    "- Copes with rules where multiple conditions have to be met\n",
    "- Doesn't cope with rules where different conditions test different entities\n",
    "- Perhaps you could extend it in your own time - and to do backward-chaining (week10)\n",
    "\n",
    "**Note this is just a  constructive search process**"
   ]
  },
  {
   "cell_type": "code",
   "execution_count": null,
   "metadata": {
    "slideshow": {
     "slide_type": "slide"
    },
    "tags": []
   },
   "outputs": [],
   "source": [
    "# facts is a list of a pairs of entity:property\n",
    "facts = [ [\"myFruit\",\"isGreen\"],  \n",
    "         [\"myFruit\",\"isRound\"],  \n",
    "         [\"myFruit\",\"isSmooth\"],  \n",
    "         [\"myOtherFruit\",\"isOrange\"]  ]\n",
    "\n",
    "# rules is also a list of pairs:  (list of conditions to match for entity), assertion\n",
    "rules = [         \n",
    "        [(\"isGreen\", \"isRound\",\"isSmooth\"),\"isAnApple\"], \n",
    "        [(\"isOrange\",\"isRough\"),\"isAnOrange\"] \n",
    "        ]\n",
    "\n",
    "print(f\"** To start with  I know that {facts}\\n\")"
   ]
  },
  {
   "cell_type": "code",
   "execution_count": null,
   "metadata": {
    "slideshow": {
     "slide_type": "slide"
    },
    "tags": []
   },
   "outputs": [],
   "source": [
    "def tryRuleForEntity(rule,entity):\n",
    "    global facts\n",
    "    # get components of rule \n",
    "    conditionList, newProperty= rule[0], rule[1]\n",
    "    print(f\"Testing rule IF {conditionList} THEN ({newProperty}) for entity {entity}\")\n",
    "    \n",
    "    # look to see if conditions are met\n",
    "    conditionsMet = True\n",
    "    for condition in conditionList:\n",
    "        assertionNeeded = [entity,condition]\n",
    "        if not assertionNeeded in facts :\n",
    "            conditionsMet=False\n",
    "            print(f\"  Condition {condition} not met for entity {entity}\\n\")\n",
    "            break\n",
    "\n",
    "    #if all conditions met can assert fact        \n",
    "    changeMade=False\n",
    "    if (conditionsMet==True):\n",
    "        print(f\"  All conditions met so I can now assert that {entity} {newProperty} is True\")\n",
    "        newAssertion = (entity, newProperty) \n",
    "        \n",
    "        if not (newAssertion  in facts):\n",
    "            facts.append(newAssertion)\n",
    "            changeMade=True\n",
    "            print(f\"  ...new fact added: {newAssertion}\\n\")\n",
    "        else:\n",
    "            print(\"  ...but I already knew that ...\\n\")\n",
    "    return changeMade"
   ]
  },
  {
   "cell_type": "code",
   "execution_count": null,
   "metadata": {
    "slideshow": {
     "slide_type": "slide"
    },
    "tags": []
   },
   "outputs": [],
   "source": [
    "# the main part of the programme- this doing FORWARD CHAINING\n",
    "stillGoing= True\n",
    "while(stillGoing ):\n",
    "    stillGoing=False\n",
    "    \n",
    "    #get list of things we know something about\n",
    "    entities = list()\n",
    "    for fact in facts:\n",
    "        entity = fact[0]\n",
    "        if  not (entity in entities):\n",
    "            entities.append(entity)\n",
    "    print(f\"These are the things I known something about: {entities}\\n\")\n",
    "    \n",
    "    # now try every combination of rules and things\n",
    "    for rule in rules:\n",
    "        for entity in entities:\n",
    "            matched = tryRuleForEntity(rule,entity)\n",
    "            if(matched):\n",
    "                stillGoing=True\n",
    " \n",
    "    if  stillGoing:\n",
    "        print(\"** New facts inferred so repeating the process\\n\")\n",
    "    else:\n",
    "        print(\"** No new facts inferred so process complete\\n\")\n",
    "                    \n",
    "print(f\"** At the end of my forward-chaining I know that {facts}\\n\")"
   ]
  },
  {
   "cell_type": "markdown",
   "metadata": {
    "slideshow": {
     "slide_type": "slide"
    }
   },
   "source": [
    "## Summary of part 1:\n",
    "\n",
    "You need to:\n",
    " - know what a fact and a rule is, and how they could be stored/coded in a programme \n",
    " - recognise the limitations that can be put on logic-based systems\n",
    " - be able to explain how things like being clear about the axioms in your system relates to ethical issues like Accountability and Trust."
   ]
  }
 ],
 "metadata": {
  "celltoolbar": "Slideshow",
  "kernelspec": {
   "display_name": "Python 3 (ipykernel)",
   "language": "python",
   "name": "python3"
  },
  "language_info": {
   "codemirror_mode": {
    "name": "ipython",
    "version": 3
   },
   "file_extension": ".py",
   "mimetype": "text/x-python",
   "name": "python",
   "nbconvert_exporter": "python",
   "pygments_lexer": "ipython3",
   "version": "3.11.6"
  }
 },
 "nbformat": 4,
 "nbformat_minor": 4
}
