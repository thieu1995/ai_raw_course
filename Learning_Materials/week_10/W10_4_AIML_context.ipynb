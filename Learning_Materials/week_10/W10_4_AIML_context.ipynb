{
 "cells": [
  {
   "cell_type": "markdown",
   "metadata": {
    "slideshow": {
     "slide_type": "slide"
    }
   },
   "source": [
    "## AIML Context\n",
    "### Setting the domain of a knowledge base using  using `<topic>`\n",
    "- You can use the tag pair &lt;topic&gt; **before** a group of categories to mark that they belong to a particular topic\n",
    "- Then within other categories in your main conversation you can set topics  \n",
    "  and your bot will pick up  right set of categories"
   ]
  },
  {
   "cell_type": "code",
   "execution_count": null,
   "metadata": {
    "slideshow": {
     "slide_type": "slide"
    },
    "tags": []
   },
   "outputs": [],
   "source": [
    "%%writefile \"context1.aiml\"\n",
    "<aiml>\n",
    "\n",
    "<category>\n",
    "    <pattern>LETS TALK ABOUT *</pattern>\n",
    "    <template> <think> <set name=\"topic\"><star/></set> </think> \n",
    "                Ok, do you peel them before you eat them?     \n",
    "    </template>\n",
    "</category>\n",
    "\n",
    "<topic name= \"APPLES\">\n",
    "    <category>\n",
    "        <pattern>I ALWAYS PEEL THEM </pattern>\n",
    "        <template> Really!  Do you then eat the peel?</template>\n",
    "    </category>\n",
    "</topic>\n",
    "\n",
    "<topic name= \"ORANGES\">\n",
    "    <category>\n",
    "        <pattern>I ALWAYS PEEL THEM </pattern>\n",
    "        <template> Me too!</template>\n",
    "    </category>\n",
    "</topic>\n",
    "\n",
    "<category>\n",
    "    <pattern>*</pattern>\n",
    "    <template>This is a fall-back answer.</template>\n",
    "</category>\n",
    "</aiml>"
   ]
  },
  {
   "cell_type": "code",
   "execution_count": null,
   "metadata": {
    "slideshow": {
     "slide_type": "slide"
    },
    "tags": []
   },
   "outputs": [],
   "source": [
    "import aiml\n",
    "myBot= aiml.Kernel()\n",
    "myBot.learn(\"context1.aiml\")\n",
    "print( \"Successfuly loaded {} categories\".format(myBot.numCategories()))\n",
    "\n",
    "\n",
    "keepGoing=True\n",
    "while(keepGoing):\n",
    "    nextInput = input(\"Enter your message >> \")\n",
    "    if(nextInput=='bye'):\n",
    "        keepGoing= False\n",
    "    else:\n",
    "        print (myBot.respond(nextInput))\n"
   ]
  },
  {
   "cell_type": "markdown",
   "metadata": {
    "slideshow": {
     "slide_type": "slide"
    }
   },
   "source": [
    "## AIML context over time: referencing history using &lt;that&gt;\n",
    "\n",
    "Some times answers and responses only make sense within the context of the history of a conversation.\n",
    "\n",
    "- \"Do you like apples?\"  \n",
    "   \"Yes\"\n",
    "   vs.  \n",
    "   \"Do you hate apples?\"  \n",
    "     \"Yes\"\n",
    "\n",
    "- In AIML we can access the last thing the bot said using &lt;that&gt; tag-pairs\n",
    "- usually we put these as an extra condition between the &lt;pattern&gt; and the &lt;template&gt;"
   ]
  },
  {
   "cell_type": "code",
   "execution_count": null,
   "metadata": {
    "slideshow": {
     "slide_type": "slide"
    }
   },
   "outputs": [],
   "source": [
    "%%writefile \"context2.aiml\"\n",
    "<aiml>\n",
    "<topic name= \"APPLES\">\n",
    "    <category>\n",
    "        <pattern>YES</pattern>\n",
    "        <that> OK DO YOU PEEL THEM BEFORE YOU EAT THEM</that>\n",
    "        <template> Really!  Do you then eat the peel?</template>\n",
    "    </category>\n",
    "\n",
    "\n",
    "    <category>\n",
    "        <pattern>YES </pattern>\n",
    "        <that> REALLY DO YOU THEN EAT THE PEEL</that>\n",
    "        <template> Yuk, not me! </template>\n",
    "    </category>\n",
    "    \n",
    "    <category>\n",
    "    <pattern> * </pattern> \n",
    "    <template> This is a default answer for apples. The last thing I said was: <that/> </template>\n",
    "    </category>\n",
    "</topic>\n",
    "\n",
    "\n",
    "</aiml>"
   ]
  },
  {
   "cell_type": "code",
   "execution_count": null,
   "metadata": {
    "slideshow": {
     "slide_type": "slide"
    }
   },
   "outputs": [],
   "source": [
    "myBot.learn(\"context2.aiml\")\n",
    "#print( \"Successfuly loaded {} categories\".format(myBot.Categories()))\n",
    "\n",
    "\n",
    "keepGoing=True\n",
    "while(keepGoing):\n",
    "    nextInput = input(\"Enter your message >> \")\n",
    "    if(nextInput=='bye'):\n",
    "        keepGoing= False\n",
    "    else:\n",
    "        print (myBot.respond(nextInput))\n"
   ]
  },
  {
   "cell_type": "markdown",
   "metadata": {
    "slideshow": {
     "slide_type": "slide"
    }
   },
   "source": [
    "## Rule Precedence in AIML\n",
    "Four main groups, with sub-levels of priorities inside each\n",
    "\n",
    "1. Pattern with a `<topic>` and a `<that>`\n",
    "   - pattern with a `<topic>` and a `<that>`  and a `_` wildcard\n",
    "   - pattern with a `<topic>` and a `<that>`  and exact match (no wildcards)\n",
    "   - pattern with a `<topic>` and a `<that>`  and a `*` wildcard  \n",
    "\n",
    "   \n",
    "2. Pattern with a `<topic>` \n",
    "   - pattern with a `<topic>` and a `_` wildcard\n",
    "   - pattern with a `<topic>` and exact match (no wildcards)\n",
    "   - pattern with a `<topic>` and a `*` wildcard   \n",
    "   \n",
    "   \n",
    "3. Pattern with a `<that>`\n",
    "   - pattern with a  `<that>`  and a `_` wildcard\n",
    "   - pattern with a  `<that>`  and exact match (no wildcards)\n",
    "   - pattern with a  `<that>`  and a `*` wildcard  \n",
    "   \n",
    "   \n",
    "4. Pattern with no `<topic>` or `<that>`\n",
    "   - pattern with a  `_` wildcard\n",
    "   - pattern with exact match (no wildcards)\n",
    "   - pattern with  a `*` wildcard\n",
    "   \n",
    "Inputs get expanded to include their context before matching.  \n",
    "So if you start a converation by typing  \"Hello\" it gets expanded to:\n",
    "`pattern=\"HELLO\" that=NONE topic=NONE`\n",
    "  "
   ]
  },
  {
   "cell_type": "markdown",
   "metadata": {
    "slideshow": {
     "slide_type": "slide"
    }
   },
   "source": [
    "## Summary\n",
    "You need to:\n",
    "1. Be able to explain, with examples,  how context is dealt with in AIML\n",
    " - `<topic>` for grouping rules  (setting their domains)\n",
    " - `<that>` for short-term knowledge about the history of a conversation.\n",
    "2. Be able to explain, and use in your implementations, the priority  AIML interpreters use to select which category apply."
   ]
  }
 ],
 "metadata": {
  "celltoolbar": "Slideshow",
  "kernelspec": {
   "display_name": "aienv",
   "language": "python",
   "name": "aienv"
  },
  "language_info": {
   "codemirror_mode": {
    "name": "ipython",
    "version": 3
   },
   "file_extension": ".py",
   "mimetype": "text/x-python",
   "name": "python",
   "nbconvert_exporter": "python",
   "pygments_lexer": "ipython3",
   "version": "3.11.6"
  }
 },
 "nbformat": 4,
 "nbformat_minor": 4
}
