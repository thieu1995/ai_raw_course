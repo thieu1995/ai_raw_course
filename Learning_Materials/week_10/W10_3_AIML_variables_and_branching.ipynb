{
 "cells": [
  {
   "cell_type": "markdown",
   "metadata": {
    "cell_style": "center",
    "slideshow": {
     "slide_type": "slide"
    }
   },
   "source": [
    "### AIML:  Variables in long-term knowledge using Wildcards and `<star/>`\n",
    "\n",
    "Wildcard goes in &lt;pattern&gt;   \n",
    "&lt;star/&gt; goes in the &lt;template&gt;, and gets *bound*  \n",
    "to whatever the wildcard matched in the current sentence.\n",
    "- in AIML 1:0, wildcards stand for *one or more*:  `_` and `*`.  \n",
    "  - `*` is the lowest priority when matching (e.g. default category).  \n",
    "  -  `_` is a high priority - e.g. stripping of niceties (please, botname)\n",
    "- AIML 2.0 added *zero or more* wildcards:  `#`  and `^`\n",
    "- Can have multiple wildcards in a sentence using `<star index=\"n\"/>`\n",
    "\n",
    "<div class=\"alert alert-block alert-danger\"> In class, and for the coursework, we will be using the package py-aiml which only supports AIMLv1, and so does not have 'zero or more' wildcards.\n",
    "\n",
    "<a href=\"https://github.com/keiffster/program-y/wiki/AIML-Tutorial\">Program-Y</a> supports AIMLv2, emojis, twitter, ..., but is a much bigger and more complex installation to work with.</div>"
   ]
  },
  {
   "cell_type": "code",
   "execution_count": null,
   "metadata": {
    "cell_style": "center",
    "slideshow": {
     "slide_type": "slide"
    },
    "tags": []
   },
   "outputs": [],
   "source": [
    "%%writefile \"variables1.aiml\"\n",
    "<aiml>\n",
    "<category>\n",
    "<pattern>MY  * COLOURED * IS A FRUIT</pattern>\n",
    "<template>Well, <star/> is an unusual colour, but your <star index=\"2\"/> is edible.</template>\n",
    "</category>\n",
    "</aiml>"
   ]
  },
  {
   "cell_type": "code",
   "execution_count": null,
   "metadata": {
    "cell_style": "center",
    "slideshow": {
     "slide_type": "fragment"
    },
    "tags": []
   },
   "outputs": [],
   "source": [
    "import aiml\n",
    "myBot= aiml.Kernel()\n",
    "myBot.learn(\"variables1.aiml\")\n",
    "nextInput = input(\"Enter your message >> \")\n",
    "print (myBot.respond(nextInput))"
   ]
  },
  {
   "cell_type": "markdown",
   "metadata": {
    "slideshow": {
     "slide_type": "slide"
    }
   },
   "source": [
    "### AIML Encoding Short -term knowledge using `<think>` and \"predicate variables\"\n",
    "- Use &lt;think&gt; tags pairs inside the template (usually as the first action) to do things without producing output. \n",
    "- Often this will involve using a &lt;set&gt; tag pair to set the value of a named short-term variable.  \n",
    "  AIML calls these \"predicate variables\"  \n",
    "  If no variable of that name exists, one will be created,  \n",
    "  Otherwise the existing value will be overwritten\n",
    " - NOTE: **white spaces are important for some interpeters**  \n",
    "   with the python-aiml interpreter ` <set name=\"username\"> Jim </set>` assigns the value `\" Jim \"` to username\n",
    "- Then access those variable values by using a &lt;get&gt; tag pair containing name of the variable\n",
    "- The variable will exist for the rest of that bot-session"
   ]
  },
  {
   "cell_type": "code",
   "execution_count": null,
   "metadata": {
    "cell_style": "center",
    "slideshow": {
     "slide_type": "slide"
    },
    "tags": []
   },
   "outputs": [],
   "source": [
    "%%writefile  \"variables2.aiml\"\n",
    "<aiml>\n",
    "\n",
    "<category>\n",
    "    <pattern>I HAVE A PET CALLED  * </pattern>\n",
    "    <template>\n",
    "        <think> \n",
    "            <set name = \"pet\"><star/></set>\n",
    "        </think>\n",
    "        Tell me more about <get name= \"pet\"/>.\n",
    "    </template>\n",
    "</category>\n",
    "</aiml>"
   ]
  },
  {
   "cell_type": "code",
   "execution_count": null,
   "metadata": {
    "cell_style": "center",
    "slideshow": {
     "slide_type": "fragment"
    },
    "tags": []
   },
   "outputs": [],
   "source": [
    "myBot.learn(\"variables2.aiml\")\n",
    "nextInput = input(\"Enter your message >> \")\n",
    "print (myBot.respond(nextInput))"
   ]
  },
  {
   "cell_type": "markdown",
   "metadata": {
    "slideshow": {
     "slide_type": "slide"
    }
   },
   "source": [
    "## AIML: selection using &lt;condition&gt; \n",
    "\n",
    "In most programming languages you select different actions based on the value of stored short-term knowledge.\n",
    "\n",
    "- C/:  if()/else if() / else.   or switch()\n",
    "- python: if / elif/else\n",
    "\n",
    "AIML has a two of ways of doing this:\n",
    "- using context ( `<topic>` and `<that>` - see next video)\n",
    "- using `<condition name=variable>` tags in the `<template>`\n",
    "- followed by a list of values and actions\n",
    "- where variable can have been defined prevously, or can be done in the same category using a `think` statement\n"
   ]
  },
  {
   "cell_type": "code",
   "execution_count": null,
   "metadata": {
    "slideshow": {
     "slide_type": "slide"
    },
    "tags": []
   },
   "outputs": [],
   "source": [
    "%%writefile \"variables3.aiml\"\n",
    "<aiml>\n",
    "  <category>\n",
    "    <pattern> MY FAVOURITE FRUIT IS * </pattern>\n",
    "    <template>\n",
    "        <!-- save value in a varaible -->\n",
    "        <think> \n",
    "            <set name=\"fave\"><star/></set>\n",
    "        </think>\n",
    "        <!-- show value of saved variable-->\n",
    "        Your favourite  is <get name=\"fave\"/>.\n",
    "        <!-- simple one-line condition-->\n",
    "        <condition name=\"fave\" value=\"apples\"> I like apples best too.</condition>\n",
    "        \n",
    "        <!-- this version is more like a switch -->\n",
    "        <condition name=\"fave\">\n",
    "            <li value = \"apples\" > Apples grow well in the UK. </li>\n",
    "            <li  value = \"oranges\" > Oranges are sweet, and juicy, but have to be imported to the UK. </li>\n",
    "            <li> I have nothing to say about <star/></li>\n",
    "        </condition>\n",
    "    </template>\n",
    "  </category>\n",
    "</aiml>"
   ]
  },
  {
   "cell_type": "code",
   "execution_count": null,
   "metadata": {
    "cell_style": "center",
    "slideshow": {
     "slide_type": "fragment"
    },
    "tags": []
   },
   "outputs": [],
   "source": [
    "myBot.learn(\"variables3.aiml\")\n",
    "nextInput = input(\"Enter your message >> \")\n",
    "print (myBot.respond(nextInput))\n",
    "#print(myBot.getPredicate('fave'))"
   ]
  },
  {
   "cell_type": "markdown",
   "metadata": {
    "slideshow": {
     "slide_type": "slide"
    }
   },
   "source": [
    "# Warning: If you use variables and &lt;srai&gt;  \n",
    "## then your programme is not guaranteed to complete ..\n"
   ]
  },
  {
   "cell_type": "code",
   "execution_count": null,
   "metadata": {
    "slideshow": {
     "slide_type": "slide"
    }
   },
   "outputs": [],
   "source": [
    "%%writefile \"variables4.aiml\"\n",
    "<aiml>\n",
    "  <category>\n",
    "    <pattern> TELL ME ABOUT * </pattern>\n",
    "    <template> <srai> DESCRIBE <star/></srai></template>\n",
    "  </category>  \n",
    "  <category>\n",
    "    <pattern> DESCRIBE * </pattern>\n",
    "    <template> <srai> TELL ME ABOUT <star/></srai></template>\n",
    "  </category>  \n",
    "</aiml>"
   ]
  },
  {
   "cell_type": "code",
   "execution_count": null,
   "metadata": {
    "slideshow": {
     "slide_type": "fragment"
    }
   },
   "outputs": [],
   "source": [
    "myBot.learn(\"variables4.aiml\")\n",
    "nextInput = input(\"Enter your message >> \")\n",
    "print (myBot.respond(nextInput))"
   ]
  },
  {
   "cell_type": "markdown",
   "metadata": {
    "slideshow": {
     "slide_type": "slide"
    }
   },
   "source": [
    "## Summary\n",
    "You need to:\n",
    "1.  Understand the difference between using variables for long-term knowledge (tend to be in rules) and short-term knowledge (tend to be for setting properties)\n",
    "2. Understand how these are implemented in AIML (our example KRL). \n",
    "   - Wildcards and `<star/>` for long-term variables in rules\n",
    "   - `<think>` with `<set>` and `<get>` for short-term knowledge / properties.\n",
    "   - `<condition>` with `<li>` to select behaviours based on short-term variable properties"
   ]
  },
  {
   "cell_type": "code",
   "execution_count": null,
   "metadata": {},
   "outputs": [],
   "source": []
  }
 ],
 "metadata": {
  "celltoolbar": "Slideshow",
  "kernelspec": {
   "display_name": "aienv",
   "language": "python",
   "name": "aienv"
  },
  "language_info": {
   "codemirror_mode": {
    "name": "ipython",
    "version": 3
   },
   "file_extension": ".py",
   "mimetype": "text/x-python",
   "name": "python",
   "nbconvert_exporter": "python",
   "pygments_lexer": "ipython3",
   "version": "3.11.6"
  }
 },
 "nbformat": 4,
 "nbformat_minor": 4
}
