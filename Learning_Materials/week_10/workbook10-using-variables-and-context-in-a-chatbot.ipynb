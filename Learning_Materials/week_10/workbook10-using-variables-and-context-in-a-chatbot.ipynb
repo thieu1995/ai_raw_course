{
 "cells": [
  {
   "cell_type": "markdown",
   "metadata": {},
   "source": [
    "# Artificial Intelligence 1 Week 10 Practical\n",
    "### Goals\n",
    "This session is split into two parts.\n",
    "\n",
    "The first activity is designed  to give you practical experience of using wildcards and `<that>` tags to embed long-term knowledge and context within your chatbot.  **You will need these skills to pass the coursework**.\n",
    "\n",
    "The second activity gives you a chance to see the specification for the first bit of coursework: the questions your bot has to answer and the marking scheme.\n",
    "\n",
    "\n",
    "### By the end of this session you should have\n",
    "- Successfully used the AIML constructs `*` `_`, `<srai>`, and `<star/>` tags to make general statements about language (how people ask questions).\n",
    "- Successfully used `<that>` tags to give let your bot respond in the context of a dialogue.\n",
    "- Understood what you need to do for the first piece of coursework.\n",
    "- Downloaded and run the marking programme to check you can test your knowledge-base before submission.\n",
    "\n",
    "### Before next week you should have\n",
    "- Expanded your  chatbot so it can the same question asked in different ways about each of the facts you have stored.   \n",
    "- Got your chatbot to correctly answer a question in different ways according what the previous question was.\n",
    "- **Made sure you know what the final part of the portfolio is and how to use the practice marking notebook**\n",
    "\n",
    "</div>"
   ]
  },
  {
   "cell_type": "markdown",
   "metadata": {},
   "source": [
    "<div class=\"alert alert-block alert-warning\", style= \"color:black\">\n",
    "    <h1> Tutorial Scenario: Building a bot to respond to customer queries about missing orders</h1>\n",
    "</div>\n"
   ]
  },
  {
   "cell_type": "markdown",
   "metadata": {},
   "source": [
    "<div class=\"alert alert-block alert-warning\", style= \"color:black\">\n",
    "    <h1>Activity 1 Encoding knowledge about language</h1>\n",
    "    Chatbots can store knowledge about the equivalence of all sorts of things,  but the most useful is storing knowledge about different ways of saying the same thing.\n",
    "\n",
    "For example, these are all ways of asking for an order status:\n",
    "<ul>\n",
    "<li>I want to track my order.</li>\n",
    "<li> Please give me a status update on my order.</li>\n",
    "<li> Where is my order, it hasn't arrived yet. </li>\n",
    "<li> Have you sent my order yet.</li>\n",
    "    <li> Where is my order.</li>\n",
    "</ul>\n",
    "    <h2>Task</h2>\n",
    "<ol>\n",
    "    <li>Use the skills you learned last week about &lt;srai&gt; tag-pairs to add five new categories to the cell below. </li>\n",
    "    <li>Your new categories should encoding the knowledge that phrases  from the  list above are equivalent to the pattern in the category provided. </li>\n",
    "    <li> Finally <b> run </b> the cell to save your knowledge bade to file</li></ul>\n",
    "            </div>"
   ]
  },
  {
   "cell_type": "code",
   "execution_count": null,
   "metadata": {
    "tags": []
   },
   "outputs": [],
   "source": [
    "%%writefile \"data/orders1.aiml\"\n",
    "<aiml>\n",
    "<category>\n",
    "  <pattern>TRACK ORDER REQUEST</pattern>\n",
    "    <template> OK, happy to help. Please enter your order number in the format: my order number is xxxxx</template>\n",
    "</category>\n",
    "\n",
    "\n",
    "<!-- add your categories below this line-->\n",
    "\n",
    "</aiml>\n"
   ]
  },
  {
   "cell_type": "markdown",
   "metadata": {},
   "source": [
    "<div class=\"alert alert-block alert-warning\", style= \"color:black\">\n",
    "    <h1>Activity 2: Using random responses to test the system for a customer who knows their order number (10 minutes)</h1> <ul>\n",
    "    <li>The first cell below assumes the customer knows their order number and provides a random response.<br>\n",
    "        (You'll have to use your knowledge from Web Development to know how it could access a database)<br>\n",
    "        <b>Run</b> this cell to save the knowledge to file.</li>\n",
    "    <li> Then <b> run the second cell below</b> to create a test a chatbot</li></ul>\n",
    "            </div>"
   ]
  },
  {
   "cell_type": "code",
   "execution_count": null,
   "metadata": {
    "tags": []
   },
   "outputs": [],
   "source": [
    "%%writefile \"data/orders2.aiml\"\n",
    "<aiml>\n",
    "<category>\n",
    "  <pattern> MY ORDER NUMBER IS *</pattern>\n",
    "  <template>\n",
    "\n",
    "     <random>\n",
    "        <li> \n",
    "           Your order has been dispatched and is in transit\n",
    "        </li>\n",
    "        <li> \n",
    "           Your order has been marked as delivered.\n",
    "        </li>\n",
    "        <li> \n",
    "           Your order number is not recognised.</li>\n",
    "        <li> \n",
    "           We apologise. One or more items in your order were out of stock. We will dispatch as soon as we receive new supplies.\n",
    "        </li>\n",
    "    </random>\n",
    " \n",
    "  </template>\n",
    "</category>\n",
    "\n",
    "</aiml>"
   ]
  },
  {
   "cell_type": "code",
   "execution_count": null,
   "metadata": {
    "tags": []
   },
   "outputs": [],
   "source": [
    "# Run this cell to create and chat with your bot\n",
    "import aiml\n",
    "\n",
    "# Create the kernel and learn AIML files\n",
    "myChatbot = aiml.Kernel()\n",
    "myChatbot.verbose(True)\n",
    "myChatbot.learn(\"data/orders1.aiml\")\n",
    "myChatbot.learn(\"data/orders2.aiml\")\n",
    "\n",
    "print(f\"Successfuly loaded {myChatbot.numCategories()} categories\")\n",
    "print(\" Is this the number you expected?\")\n",
    "\n",
    "# type bye to end the chat session\n",
    "keepGoing = True\n",
    "\n",
    "while keepGoing:\n",
    "    nextInput = input(\"Enter your message >> \")\n",
    "    if nextInput == \"bye\":\n",
    "        keepGoing = False\n",
    "    else:\n",
    "        print(myChatbot.respond(nextInput))"
   ]
  },
  {
   "cell_type": "markdown",
   "metadata": {},
   "source": [
    " <div class=\"alert alert-block alert-warning\", style= \"color:black\">\n",
    "    <h1> Activity 3:  Embedding historical context using &lt;that&gt; tags</h1>\n",
    " </div>\n",
    "\n",
    "In natural language we often say things that only make sense in the context of the previous dialogue - for example the word *it* in the dialogues below.\n",
    "> What is this module about?  \n",
    "> Artificial Intelligence  \n",
    "> Does it have ethical issues?  \n",
    "> Yes, there are risks of introducing bias against some groups of people.\n",
    "\n",
    "> What are you eating?  \n",
    "> An apple  from my garden.  \n",
    "> Does it have ethical issues?  \n",
    "> No, it's just a piece of fruit\n",
    "\n",
    "AIML `<that>` tag pairs let us use refer to the last thing that the bot said - **effectively we add a second condition to the matching process**.\n",
    "- `<that>THING TO MATCH</that>` goes between the `<pattern>   </pattern>` and the `<template> </template>` parts of the category\n",
    "- We can also use the `<that/>` tag inside a template to repeat the last thing we the bot said\n",
    " - note that like `<star/>`, this is a single tag rather than a tag-pair enclosing contents\n",
    "   in this case the backslash comes at the end. \n",
    "- Note that **the text inside the &lt;that&gt; tags should be NORMALISED (in upper case and without its punctuation)**.\n",
    "   \n",
    "<div class=\"alert alert-block alert-warning\", style= \"color:black\">\n",
    "    <h2> Activity 3.1: Checking your understand of how &lt;that&gt; tags work (10 minutes)</h2>\n",
    "    <ol><li>Read the code in the two cells below </li>\n",
    "        <li>Then run them and make sure you understand what is happening</li></ol>\n",
    "\n",
    "</div>"
   ]
  },
  {
   "cell_type": "code",
   "execution_count": null,
   "metadata": {
    "tags": []
   },
   "outputs": [],
   "source": [
    "%%writefile \"data/badJoke.aiml\"\n",
    "<aiml version=\"1.0.1\" encoding=\"UTF-8\">\n",
    "\n",
    "\n",
    "<category>\n",
    "  <pattern> TELL ME A JOKE</pattern>\n",
    "  <template> \n",
    "    <random>\n",
    "      <li> Why did the chicken cross the road?</li>\n",
    "      <li> What do you get when you cross a sheep with a kangaroo?</li>\n",
    "      <li> Why don't ants get sick?</li>\n",
    "    </random>\n",
    "  </template>\n",
    "</category>\n",
    "\n",
    "<category>\n",
    "  <pattern> I DO NOT KNOW </pattern>\n",
    "  <that>WHY DID THE CHICKEN CROSS THE ROAD</that>\n",
    "  <template> To get to the other side</template>\n",
    "</category>\n",
    "\n",
    "<category>\n",
    "  <pattern> I DO NOT KNOW </pattern>\n",
    "  <that>WHAT DO YOU GET WHEN YOU CROSS A SHEEP WITH A KANGAROO</that>\n",
    "  <template> A woolly jumper</template>\n",
    "</category>\n",
    "\n",
    "<category>\n",
    "  <pattern> I DO NOT KNOW </pattern>\n",
    "  <that>WHY DO NOT ANTS GET SICK</that>\n",
    "  <template> Because they have little anty-bodies</template>\n",
    "</category>\n",
    "    \n",
    "\n",
    "<category>\n",
    "  <pattern> I DO NOT KNOW</pattern>\n",
    "  <template> Default answer. Last thing the bot said was:<that/></template>\n",
    "</category>\n",
    "</aiml>"
   ]
  },
  {
   "cell_type": "code",
   "execution_count": null,
   "metadata": {
    "tags": []
   },
   "outputs": [],
   "source": [
    "# the import is not needed,  and will have no effect, when running the whole notebook\n",
    "# but is useful if you want to restart the kernel but not rerun the whole notebook\n",
    "\n",
    "jokeBot = aiml.Kernel()\n",
    "jokeBot.learn(\"data/badJoke.aiml\")\n",
    "\n",
    "# type bye to end the chat session\n",
    "keepGoing = True\n",
    "\n",
    "while keepGoing:\n",
    "    nextInput = input(\"Enter your message >> \")\n",
    "    if nextInput == \"bye\":\n",
    "        keepGoing = False\n",
    "    else:\n",
    "        print(jokeBot.respond(nextInput))"
   ]
  },
  {
   "cell_type": "markdown",
   "metadata": {},
   "source": [
    "<div class=\"alert alert-block alert-warning\", style= \"color:black\">\n",
    "    <h2>  Activity 3.2: Using wildcards and historical context in your order-tracking bot (30 minutes)</h2>\n",
    "    In this activity you will: \n",
    "    <ol>\n",
    "    <li> Create 5 categories embedding the knowledge that the five phrases below are all equivalent to \"GIVE LOCATION\"</li>\n",
    "    <li> Create two new categories, both with the pattern \"GIVE LOCATION\" but with different &lt;that&gt; tag-pairs<br> so whether they are matched depends on what the bot last said:\n",
    "        <ul>\n",
    "        <li> If the last response was \"Your order has been marked as delivered\" <br>\n",
    "             the response should be \"It may be in your safe place or with a neighbour\"</li>\n",
    "        <li> If the last response was \"OK, happy to help. Please enter your order number in the format: my order number is xxxxx\" <br>\n",
    "            the bot should reply with \"Your order number is in your confirmation email\"</li>\n",
    "        </ul>\n",
    "        <li> run the code cell enough times to  to test your bot thoroughly</li>\n",
    "    </ol>\n",
    "    <b> Should the text in your &lt;that&gt; tag pair be in capitals or lowercase?</b>\n",
    "</div>\n",
    "\n",
    "These are all ways of asking about location:\n",
    "1. Where is it?\n",
    "2. Where do I find it?\n",
    "3. I can't find it\n",
    "4. I don't know where to find it.\n",
    "5. Can you tell me where to find it.\n",
    "\n"
   ]
  },
  {
   "cell_type": "code",
   "execution_count": null,
   "metadata": {
    "tags": []
   },
   "outputs": [],
   "source": [
    "%%writefile \"data/orders3.aiml\"\n",
    "<aiml>\n",
    "\n",
    "\n",
    "<!-- add your five categories using srai in the template to match the phrases from the list  onto GIVE LOCATION -->\n",
    "\n",
    "\n",
    "<!-- complete these two categories to respond to different conversation history using <that> tag-pairs-->\n",
    "\n",
    "<category>\n",
    " <pattern>GIVE LOCATION</pattern>\n",
    " <!-- add that tag-pair here -->\n",
    " <template>It may be in your safe place or with a neighbour</template>\n",
    "</category>\n",
    "\n",
    "<category>\n",
    " <pattern>GIVE LOCATION</pattern>\n",
    " <!-- add that tag-pair here -->\n",
    " <template>Your order number is in your confirmation email</template>\n",
    "</category>\n",
    "\n",
    "</aiml>"
   ]
  },
  {
   "cell_type": "code",
   "execution_count": null,
   "metadata": {
    "tags": []
   },
   "outputs": [],
   "source": [
    "myChatbot.learn(\"data/orders3.aiml\")\n",
    "\n",
    "print(f\"Successfuly loaded {myChatbot.numCategories()} categories\")\n",
    "print(\" Is this the number you expected?\")\n",
    "\n",
    "# type bye to end the chat session\n",
    "keepGoing = True\n",
    "\n",
    "while keepGoing:\n",
    "    nextInput = input(\"Enter your message >> \")\n",
    "    if nextInput == \"bye\":\n",
    "        keepGoing = False\n",
    "    else:\n",
    "        print(myChatbot.respond(nextInput))"
   ]
  },
  {
   "cell_type": "markdown",
   "metadata": {},
   "source": [
    "<div class=\"alert alert-block alert-warning\", style= \"color:black\">\n",
    "    <h1> Activity 4: Improving the user-friendliness of the bot's response using &lt;star/&gt; tags</h1>\n",
    "    <ol>\n",
    "    <li>Edit  the categories above so that where appropriate categories use the the &lt;star/&gt; tag in the template to include the customer's order number in the bot's response.</li>\n",
    "        <li> Then run your bot again to test it</li></ol>\n",
    "</div>\n",
    "\n"
   ]
  },
  {
   "cell_type": "markdown",
   "metadata": {},
   "source": [
    "<div class=\"alert alert-block alert-warning\", style= \"color:black\">\n",
    "    <h1> Activity 5 (STRETCH): Using &lt;think&gt; tag-pairs and conditions to remember order status and respond differently to help requests.</h1>\n",
    "    <ol>\n",
    "    <li>Edit  the categories stored in data/orders2.aiml using &lt;think&gt; and &lt;set&gt; tag-pairs inside each of the random responses <br>\n",
    "        to save an appropriate value describing the order status in a variable called \"status\"</li>\n",
    "    <li> Then edit the aiml in cell below so that it politely directs the user to one of these emails depending on the order status:<ul>\n",
    "        <li>transit.enquiries@acme.com</li>\n",
    "        <li>missing.delivery@acme.com</li>\n",
    "        <li>lost.orders@acme.com</li>\n",
    "        <li>stock.info@acme.com</li>\n",
    "        </ul>\n",
    "        <li> Then run the second cell below to run your bot again to test it</li></ol>\n",
    "</div>\n",
    "\n"
   ]
  },
  {
   "cell_type": "code",
   "execution_count": null,
   "metadata": {},
   "outputs": [],
   "source": [
    "%%writefile \"data/order4.aiml\"\n",
    "<aiml>\n",
    "\n",
    "\n",
    "\n",
    "\n",
    "<!-- complete this  category using condition tages in the template-->\n",
    "\n",
    "<category>\n",
    " <pattern>I WANT MORE HELP</pattern>\n",
    "  <template>\n",
    "    We are sorry that you are not satisfied. \n",
    "    Please use the email address below to contact the right team who can give you more help.\n",
    "       <!-- add add your condition code here -->\n",
    "   </template>\n",
    "</category>\n",
    "\n",
    "\n",
    "</aiml>"
   ]
  },
  {
   "cell_type": "code",
   "execution_count": null,
   "metadata": {},
   "outputs": [],
   "source": [
    "# Run this cell to create and chat with your bot\n",
    "\n",
    "myChatbot.learn(\"data/order4.aiml\")\n",
    "myChatbot.verbose(True)\n",
    "print(f\"Successfuly loaded {myChatbot.numCategories()} categories\")\n",
    "print(\" Is this the number you expected?\")\n",
    "\n",
    "# type bye to end the chat session\n",
    "keepGoing = True\n",
    "\n",
    "while keepGoing:\n",
    "    nextInput = input(\"Enter your message >> \")\n",
    "    if nextInput == \"bye\":\n",
    "        keepGoing = False\n",
    "    else:\n",
    "        print(myChatbot.respond(nextInput))"
   ]
  },
  {
   "cell_type": "markdown",
   "metadata": {},
   "source": [
    "<div class = \"alert alert-block alert-info\"><b>Congratulations:</b>  You have now taken the first steps to creating a generalised knowledge base that can do more than one-off replies.<br><br><b> In your own time</b> Investigate how  &lt;star&gt; and &lt;that&gt; can refer to more than one match, or the last but *n* sentence using the construct <emph>index=\"n\"<emph> </div>"
   ]
  },
  {
   "cell_type": "markdown",
   "metadata": {
    "jp-MarkdownHeadingCollapsed": true,
    "tags": []
   },
   "source": [
    "<div class=\"alert alert-block alert-warning\", style= \"color:black\">\n",
    "    <h1> Activity 6: Preparation for the final part of the portfolio</h1>\n",
    "</div>\n",
    "\n",
    "\n",
    "1. Create a sub-directory of your AI work folder that you use to store your code.\n",
    " - **make sure this is somewhere that is automatically backed up**\n",
    "2. Download the specification file \"portfolio-questions-and-responses-2024.txt\" into that folder. \n",
    "3. Download the notebook \"AIML_Selfchecker_2024.ipyb\" into that folder.\n",
    "6. Now open the notebook in jupyter and make sure that it runs\n",
    " - It provides a cell for you to develop you aiml code in.\n",
    " - When you run that cell it writes your aiml to a file called 'student.aiml'  \n",
    "   **Do not change the name of the file produced (i.e. leave it as student.aiml)**\n",
    " - subsequent cells in the notebook run a copy of the same code that is on the marking system\n",
    " - **Note that every time the marking system runs it asks the question in a different order**  \n",
    "   but it does keep together the 3 questions that naturally follow on from a particular response.  \n",
    "\n",
    " - It should give you output on screen and also produce two files:\n",
    "   -  \"student-feedback\" with a copy of what is shown on screen\n",
    "   -  \"student-responses.txt\" which shows you eaach question in turn, what was expected, and what your bot produced, nicely aligned so you can check for typos, missing punctuation etc.\n",
    "\n",
    " \n",
    "<div class=\"alert alert-block alert-warning\", style= \"color:black\">\n",
    "    <h3>Activity 6.1: A chatbot to answer the portfolio questions</h3>\n",
    "    You should now have all the materials you need to create a bot that correctly answers all of the questions.<br>\n",
    "    Once you have followed the instructions above to test that everything is in place:<ol>\n",
    "    <li> Open the notebook \"AIML_Selfchecker_2024.ipynb\" from the jupyter homepage</li>\n",
    "    <li>Using the ideas from above,  edit the first cell (which produces \"student.aiml\") to contain categories encoding all the information you need to answer the set of 45 questions.</li>\n",
    "    <li> We suggest you might start with 45 categories and get your bot correctly answering all the questions.</li>\n",
    "    <li> <b>You will need to use some categories with &lt;that&gt;</b> tag-pairs to answer three of the questions correctly, because they rely on the previous question to provide context.</li>\n",
    "    <li> Then use what you have learned about <b>&lt;srai&gt; tags and wildcards</b> to reduce the number of categories in your file - <b>this will get you more marks</b></li>\n",
    "    <li> <b>For even more marks</b>, try looking at the lecture notebook to see how <b>&lt;think&gt;</b> and <b>&lt;condition&gt;</b> tags work in AIML.</li>\n",
    "    </ol>\n",
    "    </div>\n",
    "    "
   ]
  },
  {
   "cell_type": "markdown",
   "metadata": {},
   "source": [
    "  \n",
    "<div class=\"alert alert-block alert-warning\"> <b>REMEMBER:</b> Because it is much more lightweight, in class we are using the python-aiml package. <br>This is only AIMLv1-compliant, and  does not support all the features of AIMLv2. </div>\n",
    "\n",
    "<div class=\"alert alert-block alert-danger\"> Please save your work (click the save icon) then shutdown the notebook when you have finished with this tutorial (menu->file->close and shutdown notebook</div>\n",
    "\n",
    "<div class=\"alert alert-block alert-danger\"> Remember to download and save you work if you are not running this notebook locally.</div>"
   ]
  },
  {
   "cell_type": "code",
   "execution_count": null,
   "metadata": {},
   "outputs": [],
   "source": []
  }
 ],
 "metadata": {
  "kernelspec": {
   "display_name": "aienv",
   "language": "python",
   "name": "aienv"
  },
  "language_info": {
   "codemirror_mode": {
    "name": "ipython",
    "version": 3
   },
   "file_extension": ".py",
   "mimetype": "text/x-python",
   "name": "python",
   "nbconvert_exporter": "python",
   "pygments_lexer": "ipython3",
   "version": "3.11.6"
  }
 },
 "nbformat": 4,
 "nbformat_minor": 4
}
