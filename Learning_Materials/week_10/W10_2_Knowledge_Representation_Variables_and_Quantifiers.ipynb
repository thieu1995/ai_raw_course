{
 "cells": [
  {
   "cell_type": "markdown",
   "metadata": {
    "slideshow": {
     "slide_type": "slide"
    }
   },
   "source": [
    "## Knowledge Representation: Connectives, Variables and Quantifiers\n",
    "\n",
    "### Connectives assert relationships between facts\n",
    "- Each one is strictly defined via Truth Tables\n",
    "- AND   ^\n",
    "- OR      V \n",
    "- NOT    ¬\n",
    "- IMPLIES =>\n",
    "\n",
    "IsCat(Tom) AND IsMouse (Jerry) => Chases(Tom,Jerry)"
   ]
  },
  {
   "cell_type": "markdown",
   "metadata": {
    "slideshow": {
     "slide_type": "fragment"
    },
    "tags": []
   },
   "source": [
    "<div style=\"background:#D1FFBD;color:black\"><p>Bit boring if we have to write out every possible cat and mouse</p></div"
   ]
  },
  {
   "cell_type": "markdown",
   "metadata": {
    "cell_style": "center",
    "slideshow": {
     "slide_type": "slide"
    }
   },
   "source": [
    "### Variables  represent objects, \n",
    "Variables often written as single capital letter A,B, ...X, Y etc.   \n",
    "where A could ‘stand for’ any object  'Tom', 'Jerry, 'myApple', myBanana' etc until it is BOUND:  \n",
    "`isCat(X) ^ isMouse(Y) => chases(X,Y)`  \n",
    "   \n",
    "Does *variable* here mean the same as in programming?\n",
    "- here we're using variables to specify **long term knowledge**\n",
    "- so it means a bit more than just declaring a variable in C code.\n",
    "- More like specifying reasoning at the class level.  \n",
    "   - like a routine to calculate 'price plus VAT' \n",
    "\n"
   ]
  },
  {
   "cell_type": "markdown",
   "metadata": {
    "cell_style": "center",
    "slideshow": {
     "slide_type": "slide"
    }
   },
   "source": [
    "### Quantifiers encode meta-knowledge about variables \n",
    "<div>\n",
    "    <div style=\"float:left\" width=45%>\n",
    "        <h4>Universal Quantifiers (for all) &forall; </h4>  \n",
    "        <p>'Closed-world'  &rArr; <i>implicit</i> rules, <br>\n",
    "    e.g.  <i>all apples are green, round and smooth</i>.<br>  \n",
    "But we could later add rules for red apples, etc.\n",
    "    </p>\n",
    "        <p>Universal quantifiers  allow us to <b>generalise</b>.<br> \n",
    "            For example: <i>All oranges have rough skin</i><br>\n",
    "             &forall; A, is_orange(A) &rArr; is_rough(A) \n",
    "        </p>\n",
    "    </div>\n",
    "    <div style=\"color:white;\" width=10%>.</div> \n",
    "    <div style=\"float:right\" width=45%>\n",
    "    <h4>Existential Quantifier (there exists) &exist;</h4> \n",
    "<p>Allow you to assert that  there is at least one thing of a type with a specific property. <br>\n",
    "    <i> Not all apples are green</i>: <br>\n",
    "    &exist; A, is_apple(A) ^  &not; isGreen(A)\n",
    "    </p>\n",
    "        </div>\n",
    "    </div>"
   ]
  },
  {
   "cell_type": "markdown",
   "metadata": {
    "slideshow": {
     "slide_type": "slide"
    }
   },
   "source": [
    "# What do you do if more than one rule matches?\n",
    "<img src=\"figures/expert-system.png\" style = \"float:right\">\n",
    "\n",
    "You have to **choose** which rule to apply\n",
    "\n",
    "- This is known as *conflict resolution*\n",
    "- Some expert system shells provide the user with a set of options:\n",
    " - most specific rule (the one with the most conditions)\n",
    " - the first rule to match when reading the rule base\n",
    " - the most recent rule matched\n",
    " - etc.\n",
    "\n",
    "This should be a design decision: **it is another form of long-term knowledge.**\n",
    "- This time the meta-knowledge is about what you , the designer, feel is most important.  \n",
    "  \n",
    "- Sadly, all too often this choice is *implicit* and is buried deep in the implementation.  \n",
    "  \n",
    "- Sometimes it is made *explicit*. \n",
    "  this gives you the chance to structure your knowledge base accordingly.  \n",
    "  (AIML is a good example of this).\n",
    "\n",
    " "
   ]
  },
  {
   "cell_type": "markdown",
   "metadata": {
    "cell_style": "center",
    "slideshow": {
     "slide_type": "slide"
    }
   },
   "source": [
    "## Different logics have different components!\n",
    "<div>\n",
    "<div>\n",
    "<div style=\"background:lightblue;float:left\" >\n",
    "    <h4>Propositional Logic</h4><p> has connectives <b>but not variables or quantifiers</b>\n",
    "    <ul>\n",
    "        <li>so it is not very expressive:  can't say <i>all cats chase mice</i>. </li> \n",
    "        <li> but it is  <b>Sound</b>: you can trust its findings. </li>\n",
    "        <li> and it is <b>Decideable</b>: it will always make a decision, even if that is 'dont know' </li>\n",
    "    </ul>\n",
    "    </div>\n",
    "<div style=\"background:#D1FFBD;float:right\" >\n",
    "    <h4> First Order Logic</h4> <p> has connectives, variables and quantifiers.</p>\n",
    " <ul>\n",
    "     <li>So it is much more expressive</li>\n",
    "     <li> it is sound but only semi-decideable</li>\n",
    "    </ul>\n",
    "    </div>\n",
    "</div>\n",
    "    <p></p>\n",
    "<div style=\"clear:both;background:#EADDCA\" width=100%><h4> AIML </h4><p>has variables, but not explicit quantifiers</p>\n",
    "    </div>"
   ]
  },
  {
   "cell_type": "markdown",
   "metadata": {
    "slideshow": {
     "slide_type": "slide"
    }
   },
   "source": [
    "## Summary\n",
    "You need to:\n",
    "1. Know about the role of connectives, variables and quantifiers in Knowledge Representation Languages for specfying **long-term** knowledge.\n",
    "2. Understand that different KRLs use different components, and this affects whether they are guaranteed to finish.\n",
    "3. Understand the difference between using variables for long-term knowledge (tend to be in rules) and short-term knowledge (tend to be for setting properties)\n",
    "4. Understand that choosing which rule to fire is a design decision in which you implicitly encode more metaknowledge about your preferences.\n"
   ]
  },
  {
   "cell_type": "code",
   "execution_count": null,
   "metadata": {},
   "outputs": [],
   "source": []
  }
 ],
 "metadata": {
  "celltoolbar": "Slideshow",
  "kernelspec": {
   "display_name": "Python 3 (ipykernel)",
   "language": "python",
   "name": "python3"
  },
  "language_info": {
   "codemirror_mode": {
    "name": "ipython",
    "version": 3
   },
   "file_extension": ".py",
   "mimetype": "text/x-python",
   "name": "python",
   "nbconvert_exporter": "python",
   "pygments_lexer": "ipython3",
   "version": "3.11.6"
  }
 },
 "nbformat": 4,
 "nbformat_minor": 4
}
