{
 "cells": [
  {
   "cell_type": "markdown",
   "metadata": {
    "slideshow": {
     "slide_type": "slide"
    }
   },
   "source": [
    "## Informed Search Algorithms\n",
    "### Artificial Intelligence 1: week 3"
   ]
  },
  {
   "cell_type": "markdown",
   "metadata": {
    "slideshow": {
     "slide_type": "slide"
    }
   },
   "source": [
    "## This week\n",
    "- Recap: uninformed search algorithms for decision problems\n",
    "\n",
    "- Heuristic Quality Functions\n",
    "\n",
    "- General framework for informed search\n",
    "  - Search guided by cost/quality function  \n",
    "    Without backtracking:  Hill Climbing (local search)  \n",
    "    With backtracking: Best-First Search\n",
    "  - Search taking into account cost of steps taken  \n",
    "    Dijkstra (path-finding),  A* "
   ]
  },
  {
   "cell_type": "markdown",
   "metadata": {
    "slideshow": {
     "slide_type": "slide"
    }
   },
   "source": [
    "    \n",
    "- Example applications:\n",
    "    - inside Machine Learning algorithms\n",
    "    - path-finding\n",
    "    - optimisation\n",
    "    \n",
    "- Strengths and weaknesses to take into account  \n",
    "  when selecting a search algorithm to apply to a problem\n",
    "  "
   ]
  },
  {
   "cell_type": "markdown",
   "metadata": {
    "slideshow": {
     "slide_type": "slide"
    }
   },
   "source": [
    "## Recap: common framework\n",
    "<img src=\"./figures/generate-and-test-framework.png\" >\n",
    "\n",
    "\n"
   ]
  },
  {
   "cell_type": "markdown",
   "metadata": {
    "slideshow": {
     "slide_type": "slide"
    }
   },
   "source": [
    "## Recap: Decision problems:\n",
    "- yes / no answer (needle in a haystack), **so nothing to guide search**\n",
    "- e.g. logic puzzles, combination lock, \n",
    "- but lots of real world examples too\n",
    "\n",
    "Depth-First and Breadth-first search\n",
    "- up and down the tree or across side to side"
   ]
  },
  {
   "cell_type": "code",
   "execution_count": null,
   "metadata": {
    "slideshow": {
     "slide_type": "slide"
    },
    "tags": []
   },
   "outputs": [],
   "source": [
    "import notshared\n",
    "from notshared import DepthFirstSearch\n",
    "from notshared import BreadthFirstSearch\n",
    "from notshared import LocalSearch\n",
    "from notshared import BestFirstSearch\n",
    "from notshared import AStarSearch\n",
    "from notshared import DijkstraSearch\n",
    "from maze import Maze"
   ]
  },
  {
   "cell_type": "markdown",
   "metadata": {
    "slideshow": {
     "slide_type": "slide"
    },
    "tags": []
   },
   "source": [
    "### Simple function to demonstrate algorithms running on toy maze"
   ]
  },
  {
   "cell_type": "code",
   "execution_count": null,
   "metadata": {
    "slideshow": {
     "slide_type": "fragment"
    },
    "tags": []
   },
   "outputs": [],
   "source": [
    "from singlemembersearch import SingleMemberSearch\n",
    "\n",
    "\n",
    "def test_on_maze(algorithm: SingleMemberSearch):\n",
    "    mymaze = Maze(mazefile=\"maze.txt\")\n",
    "    mysearch = algorithm(mymaze, constructive=True, max_attempts=1500)\n",
    "    found = mysearch.run_search()\n",
    "    if found:\n",
    "        print(\n",
    "            f\"search using {mysearch.__str__()} algorithm successful after {mysearch.trials} attempts\"\n",
    "            f\" length of path is {len(mysearch.result)} moves.\"\n",
    "        )\n",
    "    else:\n",
    "        print(\"solution not found in time allowed\")\n",
    "        print(mysearch.runlog)\n",
    "    del mymaze"
   ]
  },
  {
   "cell_type": "markdown",
   "metadata": {
    "slideshow": {
     "slide_type": "slide"
    },
    "tags": []
   },
   "source": [
    "### Depth-First then Breadth-First Search  Behaviour"
   ]
  },
  {
   "cell_type": "code",
   "execution_count": null,
   "metadata": {
    "slideshow": {
     "slide_type": "fragment"
    },
    "tags": []
   },
   "outputs": [],
   "source": [
    "test_on_maze(DepthFirstSearch)"
   ]
  },
  {
   "cell_type": "code",
   "execution_count": null,
   "metadata": {
    "slideshow": {
     "slide_type": "slide"
    },
    "tags": []
   },
   "outputs": [],
   "source": [
    "# And now for breadth-first\n",
    "test_on_maze(BreadthFirstSearch)"
   ]
  },
  {
   "cell_type": "markdown",
   "metadata": {
    "slideshow": {
     "slide_type": "slide"
    }
   },
   "source": [
    "## How could we make those better?<img src=\"figures/timer.png\" style=\"float:right\" width = 15%>\n",
    "\n",
    "\n",
    "Breadth/depth-first generate nodes to test:\n",
    "-  based on the shape of the tree,\n",
    "- ignoring  how good the solutions are,  \n",
    "- or how close they might be to the goal state.\n",
    "\n",
    "we say they are “blind” or “uninformed”."
   ]
  },
  {
   "cell_type": "markdown",
   "metadata": {
    "slideshow": {
     "slide_type": "fragment"
    }
   },
   "source": [
    "More efficient approach is to incorporate information about how close you are to the solution\n",
    "\n",
    "USE ANYTHING YOU HAVE TO HAND if it helps you avoid constraints!\n",
    "<img src=\"figures/multitool.png\" style=\"float:right\" width = 20%>"
   ]
  },
  {
   "cell_type": "markdown",
   "metadata": {
    "slideshow": {
     "slide_type": "slide"
    }
   },
   "source": [
    "## Quality Functions\n",
    "Natural for some problems, e.g.:\n",
    "- **Model Building**: error rate of model on training set,\n",
    "- **Optimisation**: Distance, cost, payoff\n",
    "- **Prediction**: error rate of model in real world…\n",
    "\n",
    "Often more than one - hence **“heuristic”** (rule of thumb)  \n",
    "Some may take more effort to calculate\n",
    "- simulations run at different fidelity,\n",
    "- User studies with different sized groups\n",
    "- Different ways of estimating machine learning  model accuracy\n"
   ]
  },
  {
   "cell_type": "markdown",
   "metadata": {
    "slideshow": {
     "slide_type": "slide"
    }
   },
   "source": [
    "## Estimated Quality Measures\n",
    "For other problems we can define a\n",
    "\t“heuristic evaluation function” , h(n)  for each node n:\n",
    " - provides information to **guide**  *informed search*.\n",
    " - **estimates** how far a node is from the goal state,\n",
    "\n",
    "Comparing two nodes m  and n \n",
    "- h(m) < h(n) implies m is closer to the goal.\n",
    "- So typically we look to **minimise** the function.\n",
    "\n",
    "Also known as a ...  \n",
    "- cost function  \n",
    "-  quality function,  \n",
    "-  ‘score’,  \n",
    "-  ‘fitness’  (to be maximised)\n"
   ]
  },
  {
   "cell_type": "markdown",
   "metadata": {
    "slideshow": {
     "slide_type": "slide"
    }
   },
   "source": [
    "## Choosing Heuristic Functions\n",
    "- Should be quick to calculate\n",
    " \n",
    "- Might simplify or ignore constraints (especially 'soft' ones)\n",
    " \n",
    "- The more different levels the better (provide more information to search)\n",
    " \n",
    "- Should be \"optimistic\" (underestimate distance/cost)\n",
    "  - e.g. training set accuracy underestimates error on unseen data"
   ]
  },
  {
   "cell_type": "markdown",
   "metadata": {
    "slideshow": {
     "slide_type": "slide"
    },
    "tags": []
   },
   "source": [
    "### Example: Two landscapes created from the same function\n",
    "### with quality calculated at different levels of precision\n",
    "![integer vs 1 decimal place](./figures/2landscapes.png)"
   ]
  },
  {
   "cell_type": "markdown",
   "metadata": {
    "cell_style": "center",
    "slideshow": {
     "slide_type": "slide"
    }
   },
   "source": [
    "## Adding heuristic functions to our generate and test code\n",
    "\n",
    "Minor change to pseudocode we had for depth and breadth first:\n",
    "\n",
    "Now our Evaluate() function gives some idea of quality instead of just feasibility\n",
    "\n",
    "So all we need to change is the method  ```SelectAndMoveFromOpenList(algorithm_name)```\n",
    "\n",
    "Typically to return the one with the highest quality\n",
    " - Could do the same with uninformed search using quality = age\n",
    " - but we get that for 'free' by using a list,     \n",
    "    and always adding new things to the end, \n",
    "\n",
    "The function may also do some memory management of the open list.\n",
    "- **next year in AI2 you'll see how extending this gives rise to some more complicated search algorithms**"
   ]
  },
  {
   "cell_type": "markdown",
   "metadata": {
    "cell_style": "center",
    "slideshow": {
     "slide_type": "slide"
    }
   },
   "source": [
    "## Simple example: Hill Climbing local search (minimising)\n",
    "\n",
    "Loop through open list and pick the one with lowest quality/cost <=> increasing distance_to_goal\n",
    "\n",
    "**Doesn’t allow back-tracking**\n",
    "  - Discard rest of open list after copying the chosen one\n",
    "  - so next each time around the open list just contains the neighbours of the current working candidate\n",
    "\n",
    "\n",
    "**Only accept improving moves**\n",
    " - stop if the best neighbour is not an improvement on the current working candidate\n",
    " - i.e. you are on local optima or a plateau\n",
    " - even if goal / global optimum not reached\n",
    "\n",
    "greedy/steepest ascent variants:\n",
    " - Examine all child nodes and follow first / best  improvement.\n",
    "\n",
    "**Quick but gets stuck in local optima**\n"
   ]
  },
  {
   "cell_type": "markdown",
   "metadata": {
    "cell_style": "center",
    "slideshow": {
     "slide_type": "slide"
    }
   },
   "source": [
    "## Pseudocode for function SelectAndMoveFromOpenList in Local Search\n",
    "### This assumes the search process maintains track of *bestSoFar*\n",
    "<div style=\"background:#F0FFFF;font-size:18pt\">\n",
    "<p style=\"color:darkred;font-size:18pt;margin-bottom:0pt\"><em>SelectAndMoveFromOpenList</em></p>\n",
    "<dl style=\"font-size:18pt;margin-top:0pt\">\n",
    "    <dt>&nbsp;&nbsp;&nbsp;<b>IF</b> IsEmpty( open_list) <b>THEN</b> </dt>\n",
    "    <dd> RETURN None</dd>\n",
    "    <dt> &nbsp;&nbsp;&nbsp;<b>ELSE</b></dt>\n",
    "    <dd>bestChild &larr; <b>GetMemberWithHighestQuality</b>(openList)</dd>\n",
    "    <dd> <b>EMPTY</b>(openlist)&nbsp;&nbsp;&nbsp;&nbsp;<span style=\"background:pink\">This prevents backtracking</span></dd>\n",
    "    <dd>  <b>IF</b> BetterThan(bestChild, bestSoFar) <b>THEN</b> <br>\n",
    "        &nbsp;&nbsp;&nbsp;&nbsp;bestSoFar &larr; bestChild <br>\n",
    "        &nbsp;&nbsp;&nbsp;&nbsp;RETURN bestChild </dd>\n",
    "    <dd> <b>ELSE</b> <br>&nbsp;&nbsp;&nbsp;&nbsp; RETURN None</dd>\n",
    "</dl>\n",
    "</div>    "
   ]
  },
  {
   "cell_type": "code",
   "execution_count": null,
   "metadata": {
    "slideshow": {
     "slide_type": "slide"
    },
    "tags": []
   },
   "outputs": [],
   "source": [
    "test_on_maze(LocalSearch)"
   ]
  },
  {
   "cell_type": "markdown",
   "metadata": {
    "cell_style": "center",
    "slideshow": {
     "slide_type": "slide"
    }
   },
   "source": [
    "## Hill Climbing can get stuck even on our simple example! <img src=\"figures/hillclimbing-tree.png\" style=\"float:right\" width=50%>\n",
    "\n",
    "- But is fast\n",
    "- and you can always restart it from another place\n",
    "\n",
    "Examples:\n",
    "- Optimisation:\n",
    "  - timetabling\n",
    "- Machine Learning\n",
    "  - most decision tree algorirthms\n",
    "   - greedy rule induction     \n",
    "- \"Stochastic Gradient Descent\" (aka backprop)\n",
    "  for training neural networks\n"
   ]
  },
  {
   "cell_type": "markdown",
   "metadata": {
    "cell_style": "center",
    "slideshow": {
     "slide_type": "slide"
    }
   },
   "source": [
    "## Best First Search <img src=\"figures/best-first-tree.png\" style=\"float:right\" width = 50%>\n",
    "Like hill-climbing is driven by quality  \n",
    "**but keeps unused nodes in the open list**\n",
    "\n",
    "At every iteration:\n",
    "- finds and returns the member in the open list with the best quality,  \n",
    "- leavves the rest in the open list\n",
    "- i.e. doesn’t removed unexplored nodes  \n",
    "  This adds  backtracking\n",
    "\n",
    "*Tends* to produce shorter paths than depth- or breadth first search\n"
   ]
  },
  {
   "cell_type": "markdown",
   "metadata": {
    "cell_style": "center",
    "slideshow": {
     "slide_type": "slide"
    }
   },
   "source": [
    "## Pseudocode for function SelectAndMoveFromOpenList in Best-First Search\n",
    "\n",
    "<div style=\"background:#F0FFFF;font-size:18pt\">\n",
    "<p style=\"color:darkred;font-size:18pt;margin-bottom:0pt\"><em>SelectAndMoveFromOpenList</em></p>\n",
    "<dl style=\"font-size:18pt;margin-top:0pt\">\n",
    "    <dt>&nbsp;&nbsp;&nbsp;<b>IF</b> IsEmpty( open_list) <b>THEN</b> </dt>\n",
    "    <dd> RETURN None</dd>\n",
    "    <dt> &nbsp;&nbsp;&nbsp;<b>ELSE</b></dt>\n",
    "    <dd>bestChild &larr; <b>GetMemberWithHighestQuality</b>(openList)</dd>\n",
    "    <dd> RETURN bestChild&nbsp;&nbsp;&nbsp;&nbsp;<span style=\"background:pink\">Best-First keeps the openlist to allow backtracking</span></dd>\n",
    "</dl>\n",
    "</div>   "
   ]
  },
  {
   "cell_type": "code",
   "execution_count": null,
   "metadata": {
    "slideshow": {
     "slide_type": "slide"
    },
    "tags": []
   },
   "outputs": [],
   "source": [
    "test_on_maze(BestFirstSearch)"
   ]
  },
  {
   "cell_type": "markdown",
   "metadata": {
    "cell_style": "center",
    "slideshow": {
     "slide_type": "skip"
    }
   },
   "source": [
    "## Quiz Questions:\n",
    "- Hill-Climbers can get stuck in local optima (True:False)\n",
    "- The local optima a hill-climber finds, depends on where it starts (True:False)\n",
    "- Which of these might help local search?\u000b",
    "\n",
    "Vote for as many as you think will\n",
    "  - Multiple runs from random starting places\n",
    "  - Multiple runs, start each one by making random changes to  the last local optimum\n",
    "  - One  run, changing the move operator everytime you reach a local optimum\n",
    "  - Sometimes accepting worsening moves\n"
   ]
  },
  {
   "cell_type": "markdown",
   "metadata": {
    "slideshow": {
     "slide_type": "slide"
    }
   },
   "source": [
    "# Pause"
   ]
  },
  {
   "cell_type": "markdown",
   "metadata": {
    "cell_style": "center",
    "slideshow": {
     "slide_type": "slide"
    }
   },
   "source": [
    "## Taking into account the cost of reaching a solution\n",
    " <img src=\"figures/balanced_plates.jpg\" style=\"float:right\">\n",
    "\n",
    "\n",
    "E.g. planning \n",
    "- Routes to avoid toll roads (cost)  \n",
    "- Routes to avoid  built-up areas (air pollution)\n",
    "- the path of a manipulator to reduce number of moves\n",
    "- the path of a manipulator avoiding sudden changes of direction  \n",
    "\n",
    "or \"Occcam's Razor\": the simplest explanation (ML model) is usually the best"
   ]
  },
  {
   "cell_type": "markdown",
   "metadata": {
    "cell_style": "center",
    "slideshow": {
     "slide_type": "slide"
    }
   },
   "source": [
    "## A* : **guaranteed** shortest/least cost paths <img src=\"figures/optimal.png\" style=\"float:right\" width = 25%>\n",
    "Adds cost to Best-First to find optima\n",
    " - Shortest path / least complex model,\n",
    "\n",
    "Sorts the list of unexplored nodes by f(node):\n",
    "- f(node) = g(node) + h(node),  \n",
    "  h(node) =  estimated distance to goal (heuristic).  \n",
    "  g(node) = cost of reaching that node.\n",
    "\n",
    "So you can stop looking as soon as  you know that   \n",
    "g(node) > best_so_far for all remaining nodes\n",
    "\n",
    "**A* is complete and optimal as long as h(node) is an underestimate**\n",
    "\n",
    "A* is used for : path-finding (especially NPCs in games),   query optimisation, …\n"
   ]
  },
  {
   "cell_type": "markdown",
   "metadata": {
    "cell_style": "center",
    "slideshow": {
     "slide_type": "slide"
    }
   },
   "source": [
    "## Pseudocode for function SelectAndMoveFromOpenList in AStar Search\n",
    "\n",
    "<div style=\"background:#F0FFFF;font-size:18pt\">\n",
    "<p style=\"color:darkred;font-size:18pt;margin-bottom:0pt\"><em>SelectAndMoveFromOpenList</em></p>\n",
    "<dl style=\"font-size:18pt;margin-top:0pt\">\n",
    "    <dt>&nbsp;&nbsp;&nbsp;<b>IF</b> IsEmpty( open_list) <b>THEN</b> </dt>\n",
    "    <dd> RETURN None</dd>\n",
    "    <dt> &nbsp;&nbsp;&nbsp;<b>ELSE</b></dt>\n",
    "    <dd><span style=\"background:pink\">AStar picks using sum of quality +cost</span></dd>\n",
    "    <dd>bestChild &larr; <b>GetMemberWithHighestCombinedScore</b>(openList)</dd>\n",
    "    <dd> RETURN bestChild&nbsp;&nbsp;&nbsp;&nbsp;</dd>\n",
    "</dl>\n",
    "</div>   \n",
    "<div style=\"background:white\"> <h3>Note that</h3><ul>\n",
    "    <li>This is just like best-first with a modified selection.</li>\n",
    "    <li> To make more efficient you can track <i>bestSoFar</i> and modify <b>UpdateWorkingMemory()</b><br>\n",
    "        so it doesn't put things on the openlist if depth > bestSoFar </li></ul>  </div> "
   ]
  },
  {
   "cell_type": "code",
   "execution_count": null,
   "metadata": {
    "slideshow": {
     "slide_type": "slide"
    },
    "tags": []
   },
   "outputs": [],
   "source": [
    "test_on_maze(AStarSearch)"
   ]
  },
  {
   "cell_type": "markdown",
   "metadata": {
    "cell_style": "center",
    "slideshow": {
     "slide_type": "slide"
    }
   },
   "source": [
    "## A* example <img src=\"figures/Astar-tree.png\" style = \"float:right\" width = 40%>\n",
    " We show the cost as a second number in each node – in this case just the depth\n",
    "\n",
    "## What does \"optimality\" mean for A* ?\n",
    "Finds node which satisfies the goal criteria\n",
    "\n",
    "If there is more than one of these, it finds the one with the least cost \n",
    "\n",
    "How else could we interpret this?\n",
    "What might be desirable?\n",
    "\n",
    "\n"
   ]
  },
  {
   "cell_type": "markdown",
   "metadata": {
    "slideshow": {
     "slide_type": "slide"
    }
   },
   "source": [
    "# Dijktra's algorithm\n",
    "<img src = \"figures/dijkstra.gif\" style = \"float:right\" width = 40%>\n",
    "\n",
    "Designed for use in tracing routes between points in an weighted undirected graph.\n",
    "- \"weighted\" means there are cost/distances on each link   \n",
    "  (edge in the graph)  \n",
    "  e.g. tolls/ different terrains, ...\n",
    "- \"undirected\" means you can traverse an edge  \n",
    "  in either direction ( no one-way roads)\n",
    "- copes with cycloes/loops by continuously updating distance estimates\n",
    "\n",
    "Finds the single shortest path between two points.  \n",
    "Most used for path-finding – a *lot* in games\n",
    "\n",
    "Like A* but ignores heuristic cost\n",
    "h(n) = 0 for all n\n",
    "\n",
    "\"Dijkstra Animation\" by Ibmua - Work by uploader.. Licensed under Public Domain via Commons - https://commons.wikimedia.org/wiki/File:Dijkstra_Animation.gif#/media/File:Dijkstra_Animation.gif\n"
   ]
  },
  {
   "cell_type": "markdown",
   "metadata": {
    "slideshow": {
     "slide_type": "slide"
    }
   },
   "source": [
    "## What does this mean in terms of our existing pseudocode?\n",
    "\n",
    "Criteria for picking working candidate from open list\n",
    "- closest distance to start\n",
    "- **going through nodes we know about**\n",
    "- so these need updating\n",
    "\n",
    "Just like the normal quality function, sometimes we might need to approximate that\n",
    "- if we just use path length it ends up being the same as Breadth Frst Search "
   ]
  },
  {
   "cell_type": "markdown",
   "metadata": {
    "slideshow": {
     "slide_type": "slide"
    }
   },
   "source": [
    "## Pseudocode for function SelectAndMoveFromOpenList in Dijkstra's Search Algorithm\n",
    "\n",
    "<div style=\"background:#F0FFFF;font-size:18pt\">\n",
    "<p style=\"color:darkred;font-size:18pt;margin-bottom:0pt\"><em>SelectAndMoveFromOpenList</em></p>\n",
    "<dl style=\"font-size:18pt;margin-top:0pt\">\n",
    "    <dt>&nbsp;&nbsp;&nbsp;<b>IF</b> IsEmpty( open_list) <b>THEN</b> </dt>\n",
    "    <dd> RETURN None</dd>\n",
    "    <dt> &nbsp;&nbsp;&nbsp;<b>ELSE</b></dt>\n",
    "    <dd><b>UpdateDistanceEstimates</b>(OpenList)<br>\n",
    "    <dd>bestChild &larr; <b>GetMemberWithLowestDistance</b>(openList)</dd>\n",
    "    <dd> RETURN bestChild&nbsp;&nbsp;&nbsp;&nbsp;</dd>\n",
    "</dl>\n",
    "</div>   "
   ]
  },
  {
   "cell_type": "code",
   "execution_count": null,
   "metadata": {
    "slideshow": {
     "slide_type": "slide"
    }
   },
   "outputs": [],
   "source": [
    "test_on_maze(DijkstraSearch)"
   ]
  },
  {
   "cell_type": "markdown",
   "metadata": {
    "slideshow": {
     "slide_type": "slide"
    }
   },
   "source": [
    "## Really good description and discussion of how different algorithms can be used for path-finding\n",
    "\n",
    "http://www.redblobgames.com/pathfinding/a-star/introduction.html\n",
    "    \n",
    "    "
   ]
  },
  {
   "cell_type": "markdown",
   "metadata": {
    "slideshow": {
     "slide_type": "skip"
    }
   },
   "source": [
    "## Quiz Questions\n",
    "For a ‘decision’ problem, which of these   would be appropriate ?\n",
    "\n",
    "For an exam timetabling problem which of these   would be appropriate ?\n",
    "\n",
    "For a npc planning a path to chase someone in a game, which of these   would be appropriate ?\n",
    "\n",
    "For organising daily delivery schedules, which of these   would be appropriate ?\n",
    "\n",
    "- Depth-first\n",
    "- Breadth-first\n",
    "- Hill-Climbing\n",
    "- Best-First\n",
    "- A*\n",
    "- Dijkstra\n"
   ]
  },
  {
   "cell_type": "markdown",
   "metadata": {
    "slideshow": {
     "slide_type": "slide"
    }
   },
   "source": [
    "## Strengths and weaknesses of different approaches\n",
    "\n",
    "You should construct a tables listing whether different algorithms possess these features\n",
    "\n",
    "- Completeness?\n",
    "  - will get stuck in local optima?\n",
    "  - avoids getting stuck in loops by design?\n",
    "  - can (sometimes) be adapted to avoid being stuck in loops? \n",
    "- Efficiency, e.g.\n",
    "  - Can make more efficient by incorporating information about solution quality?\n",
    "  - Limited storage overheads\n",
    "- Optimality:\n",
    "  - Guaranteed to find a solution if one exists?\n",
    "  - Can find least-cost/short/least complex solutions?\n",
    "  \n",
    " And look at the reading lists, examples of applications using search algorithms  (sat navs, machine learning, ...) to understand why they make the choices and trade-offs they do"
   ]
  },
  {
   "cell_type": "markdown",
   "metadata": {
    "slideshow": {
     "slide_type": "slide"
    }
   },
   "source": [
    "## Summary of search topic:\n",
    "\n",
    "You need to know about and recognise:\n",
    "- Common framework\n",
    "- Depth and Best first search when there is no quality function\n",
    "- Characteristics of a good heuristic quality function\n",
    "- Simple Hill Climber\n",
    "- Best first\n",
    "- A*\n",
    "- Dijkstra’s Algorithm\n",
    "\n",
    "You should be able to answer questions about\n",
    "- How to implement different strategies within a common framework\n",
    "- Choosing an appropriate search strategy for a problem:\n",
    "  - Do you have a way of assigning quality?\n",
    "  - What are your trade-offs for time vs storage vs optimality?\n",
    "  - Can ‘good-enough’ be ok?\n"
   ]
  },
  {
   "cell_type": "code",
   "execution_count": null,
   "metadata": {},
   "outputs": [],
   "source": []
  },
  {
   "cell_type": "markdown",
   "metadata": {},
   "source": [
    "# Extras: Optimising TSP"
   ]
  },
  {
   "cell_type": "code",
   "execution_count": null,
   "metadata": {
    "tags": []
   },
   "outputs": [],
   "source": [
    "import random\n",
    "import numpy as np\n",
    "import math\n",
    "from matplotlib i\n",
    "from problem import Problem\n",
    "\n",
    "# place cities in random positions\n",
    "\n",
    "\n",
    "class TSP(Problem):\n",
    "    \"\"\"Class for TSP problems\n",
    "    Each instancce is randomly generated\n",
    "    \"\"\"\n",
    "\n",
    "    def __init__(self, num_cities=10):\n",
    "        \"\"\"gnerates a new random indiex uniformly on a 100x100 grid\"\"\"\n",
    "        self.num_decisions = num_cities\n",
    "        # value set is just the id's of the cities\n",
    "        self.value_set = list(range(0, num_cities))\n",
    "\n",
    "        # random generation of city locations\n",
    "        self.cities = [random.sample(range(100), 2) for x in range(num_cities)]\n",
    "        # model is just the magtrix of inter-city distances\n",
    "        self.model = self.get_distances()\n",
    "        self.plot_cities()\n",
    "\n",
    "    def get_distances(self):\n",
    "        num_cities = len(self.cities)\n",
    "        distances = np.zeros((num_cities, num_cities))\n",
    "        for row in range(num_cities):\n",
    "            for col in range(num_cities):\n",
    "                if row != col:\n",
    "                    xdist = self.cities[row][0] - self.cities[col][0]\n",
    "                    ydist = self.cities[row][1] - self.cities[col][1]\n",
    "                    distances[row][col] = math.sqrt(xdist * xdist + ydist * ydist)\n",
    "        return distances\n",
    "\n",
    "    def plot_cities(self):\n",
    "        fig, ax = plt.subplots()\n",
    "        for i in self.value_set:\n",
    "            ax.plot(self.cities[i][0], self.cities[i][1], \"Xb\")\n",
    "        modelstrings = np.array(\n",
    "            [\"%.2f\" % x for x in self.model.reshape(self.model.size)]\n",
    "        )\n",
    "        modelstrings = modelstrings.reshape(self.model.shape)\n",
    "        ax.table(cellText=modelstrings, loc=\"right\", bbox=[1.1, 0, 1, 1])\n",
    "        plt.show()\n",
    "\n",
    "    def show_tour(self, tour: list):\n",
    "        plt.plot(self.cities[start][0], self.cities[start][1], \"or\", markersize=12)\n",
    "        n = self.num_decisions\n",
    "        plt.plot(\n",
    "            [self.cities[tour[i % n]][0] for i in range(n + 1)],\n",
    "            [self.cities[tour[i % n]][1] for i in range(n + 1)],\n",
    "            \"Xb-\",\n",
    "        )\n",
    "        plt.show()\n",
    "\n",
    "    def evaluate(self, tour: list) -> int:\n",
    "        \"\"\"simple sum of distance between places in tour\n",
    "        wrapping around to the start\"\"\"\n",
    "\n",
    "        n = len(tour)  # number of cities visited\n",
    "        # two sanity checks - not relevant for partial tours\n",
    "        # errstr= f\"len mismatch {n} vs. {self.num_decisions}\"\n",
    "        # assert n== self.num_decisions,errstr\n",
    "\n",
    "        # every value in tour must be a unique valid index\n",
    "        for val in tour:\n",
    "            if val not in self.value_set:\n",
    "                return -1, \"invalid city number in tour\"\n",
    "        uniqs = np.unique(np.array(tour), return_counts=False)\n",
    "        if len(uniqs) != n:\n",
    "            return -1, \"non-unique value in tour\"\n",
    "\n",
    "        distance = 0\n",
    "        # simple loop from place to place in tour\n",
    "        for pos in range(n):\n",
    "            # using modulus so that at the end we go back to the start\n",
    "            nextpos = (pos + 1) % n\n",
    "            current_place = tour[pos]\n",
    "            next_place = tour[nextpos]\n",
    "            dist = self.model[current_place][next_place]\n",
    "            distance += int(dist)\n",
    "\n",
    "        # now penalise tours that don't visit every city\n",
    "        penalty = 1000 * (self.num_decisions - n)\n",
    "        return distance + penalty, \"\""
   ]
  },
  {
   "cell_type": "code",
   "execution_count": null,
   "metadata": {
    "tags": []
   },
   "outputs": [],
   "source": [
    "n = 10\n",
    "mytsp = TSP(num_cities=n)"
   ]
  },
  {
   "cell_type": "code",
   "execution_count": null,
   "metadata": {
    "tags": []
   },
   "outputs": [],
   "source": [
    "for start in range(5):\n",
    "    mysearch = LocalSearch(mytsp, constructive=True, minimise=True, max_attempts=1000)\n",
    "    # seed first city\n",
    "    mysearch.open_list[0].variable_values.append(start)\n",
    "    mysearch.run_search()\n",
    "    # print(mysearch.runlog)\n",
    "    last_solution = mysearch.closed_list[-1]\n",
    "    print(\n",
    "        f\"last solution has quality {last_solution.quality} for tour {last_solution.variable_values}.\"\n",
    "    )\n",
    "    mytsp.show_tour(last_solution.variable_values)"
   ]
  },
  {
   "cell_type": "code",
   "execution_count": null,
   "metadata": {},
   "outputs": [],
   "source": []
  }
 ],
 "metadata": {
  "celltoolbar": "Slideshow",
  "kernelspec": {
   "display_name": "aienv",
   "language": "python",
   "name": "aienv"
  },
  "language_info": {
   "codemirror_mode": {
    "name": "ipython",
    "version": 3
   },
   "file_extension": ".py",
   "mimetype": "text/x-python",
   "name": "python",
   "nbconvert_exporter": "python",
   "pygments_lexer": "ipython3",
   "version": "3.11.6"
  }
 },
 "nbformat": 4,
 "nbformat_minor": 4
}
